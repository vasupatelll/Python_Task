{
 "cells": [
  {
   "cell_type": "markdown",
   "metadata": {},
   "source": [
    "### Python Conditional Statements and loops"
   ]
  },
  {
   "cell_type": "markdown",
   "metadata": {},
   "source": [
    "#### 1. Write a Python program to construct the following pattern, using a nested for loop. \n",
    "\n",
    "(double click here to see pattern)\n",
    "\n",
    "* \n",
    "* * \n",
    "* * * \n",
    "* * * * \n",
    "* * * * * \n",
    "* * * * \n",
    "* * * \n",
    "* * \n",
    "*"
   ]
  },
  {
   "cell_type": "code",
   "execution_count": null,
   "metadata": {},
   "outputs": [],
   "source": [
    "for loop in range(5):\n",
    "    for idx in range(loop):\n",
    "        print(\"* \",end=\"\")\n",
    "    print('')    \n",
    "for loop in range(5,0,-1):\n",
    "    for idx in range(loop):\n",
    "        print(\"* \",end=\"\")\n",
    "    print('')           \n",
    "\n",
    "   "
   ]
  },
  {
   "cell_type": "markdown",
   "metadata": {},
   "source": [
    "#### 2. Write a Python program to count the number of even and odd numbers from a series of numbers. \n",
    "* Sample numbers : numbers = (1, 2, 3, 4, 5, 6, 7, 8, 9) \n",
    "##### Expected Output : \n",
    "* Number of even numbers : 5\n",
    "* Number of odd numbers : 4"
   ]
  },
  {
   "cell_type": "code",
   "execution_count": null,
   "metadata": {},
   "outputs": [],
   "source": [
    "sn=(1, 2, 3, 4, 5, 6, 7, 8, 9)\n",
    "count=0\n",
    "odd_count=0\n",
    "for loop in sn:\n",
    "    if loop%2==0:\n",
    "        count+=1\n",
    "    else:odd_count+=1\n",
    "print(\"Number of even numbers: \",count, \" | \",\"Number of odd numbers: \",odd_count)        "
   ]
  },
  {
   "cell_type": "markdown",
   "metadata": {},
   "source": [
    "####  3. Write a Python program that prints all the numbers from 0 to 6 except 3 and 6.\n",
    "* Note : Use 'continue' statement. \n",
    "* Expected Output : 0 1 2 4 5 "
   ]
  },
  {
   "cell_type": "code",
   "execution_count": null,
   "metadata": {},
   "outputs": [],
   "source": [
    "sn=(0,1, 2, 3, 4, 5, 6)\n",
    "for loop in sn:\n",
    "    if loop ==3 or loop ==6:\n",
    "        continue\n",
    "    print(loop, end=\"\")    \n",
    "        \n",
    "    "
   ]
  },
  {
   "cell_type": "markdown",
   "metadata": {},
   "source": [
    "#### 4. Write a Python program to get the Fibonacci series between 0 to 50. \n",
    "##### Note : The Fibonacci Sequence is the series of numbers :\n",
    "* 0, 1, 1, 2, 3, 5, 8, 13, 21, .... \n",
    "* Every next number is found by adding up the two numbers before it.\n",
    "* Expected Output : 1 1 2 3 5 8 13 21 34"
   ]
  },
  {
   "cell_type": "code",
   "execution_count": null,
   "metadata": {},
   "outputs": [],
   "source": [
    "a=0\n",
    "b=1\n",
    "c=a+b\n",
    "print(a,end=\"\")\n",
    "print(b,end=\"\")\n",
    "for loop in range(0,50):\n",
    "    a=b\n",
    "    b=c\n",
    "    c=a+b\n",
    "    print(c,\"\",end=\"\")\n"
   ]
  },
  {
   "cell_type": "markdown",
   "metadata": {},
   "source": [
    " 5. Write a Python program which takes two digits m (row) and n (column) as input and generates a two-dimensional array. The element value in the i-th row and j-th column of the array should be i*j. \n",
    "\n",
    "Note :\n",
    "* i = 0,1.., m-1 \n",
    "* j = 0,1, n-1.\n",
    "\n",
    "* Test Data : Rows = 3, Columns = 4 \n",
    "* Expected Result : [[0, 0, 0, 0], [0, 1, 2, 3], [0, 2, 4, 6]]"
   ]
  },
  {
   "cell_type": "code",
   "execution_count": null,
   "metadata": {},
   "outputs": [],
   "source": [
    "rows, cols = 3, 4\n",
    "outer_li = []\n",
    "for val in range(rows):\n",
    "    inner_li = []\n",
    "    for val1 in range(cols):\n",
    "        inner_li.append(val*val1)\n",
    "    outer_li.append(inner_li)\n",
    "        \n",
    "        \n",
    "outer_li"
   ]
  },
  {
   "cell_type": "markdown",
   "metadata": {},
   "source": [
    "6. Write a Python program to find numbers between 100 and 400 (both included) where each digit of a number is an even number. The numbers obtained should be printed in a comma-separated sequence"
   ]
  },
  {
   "cell_type": "code",
   "execution_count": null,
   "metadata": {},
   "outputs": [],
   "source": [
    "def is_even(num):\n",
    "    return num %2==0\n",
    "val = []\n",
    "for loop in range(100,401):\n",
    "    if is_even(loop):\n",
    "        val.append(str(loop))\n",
    "\n",
    "print(val)"
   ]
  },
  {
   "cell_type": "code",
   "execution_count": null,
   "metadata": {},
   "outputs": [],
   "source": [
    "\",\".join(val)"
   ]
  },
  {
   "cell_type": "markdown",
   "metadata": {},
   "source": [
    " #### 7. Write a Python program to print alphabet pattern 'A'."
   ]
  },
  {
   "cell_type": "code",
   "execution_count": 18,
   "metadata": {},
   "outputs": [
    {
     "name": "stdout",
     "output_type": "stream",
     "text": [
      "  ***  \n",
      " *   * \n",
      " *   * \n",
      " ***** \n",
      " *   * \n",
      " *   * \n",
      " *   * \n",
      "\n"
     ]
    }
   ],
   "source": [
    "final=\"\"\n",
    "for rows in range(0,7):\n",
    "    for column in range(0,7):\n",
    "        if(((column==1 or column==5) and rows!=0) or ((rows==0 or rows==3) and (column>1 and column<5))):\n",
    "            final=final+\"*\"\n",
    "        else:final=final+\" \" \n",
    "    final=final+\"\\n\"\n",
    "print(final)"
   ]
  },
  {
   "cell_type": "markdown",
   "metadata": {},
   "source": [
    "#### 8. Write a Python program to print alphabet pattern 'P'"
   ]
  },
  {
   "cell_type": "code",
   "execution_count": 25,
   "metadata": {},
   "outputs": [
    {
     "name": "stdout",
     "output_type": "stream",
     "text": [
      "*******\n",
      "*     *\n",
      "*     *\n",
      "*******\n",
      "*      \n",
      "*      \n",
      "*      \n",
      "\n"
     ]
    }
   ],
   "source": [
    "final=\"\"\n",
    "for rows in range(7):\n",
    "    for column in range(7):\n",
    "        if (((column==0 or column==6) and rows<4) or (rows==0 or rows==3) or (column==0 and rows>3)):\n",
    "            final=final+\"*\"\n",
    "        else:final=final+\" \"\n",
    "    final=final+\"\\n\"\n",
    "print(final)    "
   ]
  },
  {
   "cell_type": "markdown",
   "metadata": {},
   "source": [
    "#### 9. Write a Python program to check a triangle is valid or not."
   ]
  },
  {
   "cell_type": "code",
   "execution_count": 34,
   "metadata": {},
   "outputs": [
    {
     "name": "stdout",
     "output_type": "stream",
     "text": [
      "yes it is a triangle\n"
     ]
    }
   ],
   "source": [
    "def is_triangle(t1,t2,t3):\n",
    "    if(t1+t2+t3)==180:\n",
    "        if ((t1==90 and t2<=90  and t3<=90) or (t1<=90 and t2==90  and t3<=90) or (t1<=90 and t2<=90  and t3==90)):\n",
    "            print(\"no it is not a triangle\")\n",
    "        else:print('yes it is a triangle')    \n",
    "    else:\n",
    "        print(\"no it is not a triangle\")\n",
    "is_triangle(60,60,60)        "
   ]
  },
  {
   "cell_type": "markdown",
   "metadata": {},
   "source": [
    "#### 10. Write a Python program to create the multiplication table (from 1 to 10) of a number."
   ]
  },
  {
   "cell_type": "code",
   "execution_count": 44,
   "metadata": {},
   "outputs": [
    {
     "name": "stdout",
     "output_type": "stream",
     "text": [
      "[1]\n",
      "1  2  3  4  5  6  7  8  9  10  \n",
      "[2]\n",
      "2  4  6  8  10  12  14  16  18  20  \n",
      "[3]\n",
      "3  6  9  12  15  18  21  24  27  30  \n",
      "[4]\n",
      "4  8  12  16  20  24  28  32  36  40  \n",
      "[5]\n",
      "5  10  15  20  25  30  35  40  45  50  \n",
      "[6]\n",
      "6  12  18  24  30  36  42  48  54  60  \n",
      "[7]\n",
      "7  14  21  28  35  42  49  56  63  70  \n",
      "[8]\n",
      "8  16  24  32  40  48  56  64  72  80  \n",
      "[9]\n",
      "9  18  27  36  45  54  63  72  81  90  \n",
      "[10]\n",
      "10  20  30  40  50  60  70  80  90  100  \n"
     ]
    }
   ],
   "source": [
    "for rows in range(1,11):\n",
    "    print([rows])\n",
    "    for column in range(1,11):\n",
    "        print(rows*column,\" \",end=\"\")\n",
    "    print('')   "
   ]
  },
  {
   "cell_type": "markdown",
   "metadata": {},
   "source": [
    "#### 11. Write a Python program to construct the following pattern, using a nested loop number.\n",
    "1\n",
    "22\n",
    "333\n",
    "4444\n",
    "55555\n",
    "666666\n",
    "7777777\n",
    "88888888\n",
    "999999999\n"
   ]
  },
  {
   "cell_type": "code",
   "execution_count": 56,
   "metadata": {},
   "outputs": [
    {
     "name": "stdout",
     "output_type": "stream",
     "text": [
      "4\n",
      " 1 22 333 4444 "
     ]
    }
   ],
   "source": [
    "val=int(input())\n",
    "for loop in range(val+1):\n",
    "    for repeat in range(loop):\n",
    "        print(loop,end=\"\")\n",
    "    print(\" \",end=\"\")"
   ]
  }
 ],
 "metadata": {
  "kernelspec": {
   "display_name": "Python 3 (ipykernel)",
   "language": "python",
   "name": "python3"
  },
  "language_info": {
   "codemirror_mode": {
    "name": "ipython",
    "version": 3
   },
   "file_extension": ".py",
   "mimetype": "text/x-python",
   "name": "python",
   "nbconvert_exporter": "python",
   "pygments_lexer": "ipython3",
   "version": "3.9.12"
  }
 },
 "nbformat": 4,
 "nbformat_minor": 2
}
