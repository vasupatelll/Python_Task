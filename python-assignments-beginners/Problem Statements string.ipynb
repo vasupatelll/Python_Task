{
 "cells": [
  {
   "cell_type": "markdown",
   "metadata": {},
   "source": [
    "## Python Data Type: String - Exercises"
   ]
  },
  {
   "cell_type": "markdown",
   "metadata": {},
   "source": [
    "#### 1. Write a Python program to count the number of characters (character frequency) in a string \n",
    "* Sample String : google.com'\n",
    "* Expected Result : {'o': 3, 'g': 2, '.': 1, 'e': 1, 'l': 1, 'm': 1, 'c': 1}"
   ]
  },
  {
   "cell_type": "code",
   "execution_count": null,
   "metadata": {},
   "outputs": [],
   "source": [
    "dict={}\n",
    "sample=\"google.com\"\n",
    "for loop in sample:\n",
    "    keys=dict.keys()\n",
    "    if loop in keys:\n",
    "        dict[loop]+=1\n",
    "    else:\n",
    "        dict[loop]=1\n",
    "print(dict)        \n",
    "        \n",
    "    \n"
   ]
  },
  {
   "cell_type": "markdown",
   "metadata": {},
   "source": [
    "#### 2. Write a Python program to get a string from a given string where all occurrences of its first char have been changed to '$' ,except the first char itself\n",
    "\n",
    "* Sample String : 'restart'\n",
    "* Expected Result : 'resta$t' "
   ]
  },
  {
   "cell_type": "code",
   "execution_count": null,
   "metadata": {},
   "outputs": [],
   "source": [
    "sample=\"restart\"\n",
    "chr=sample[0]\n",
    "sample=sample.replace(\"r\",\"$\")\n",
    "sample=chr+sample[1:]\n",
    "print(sample)"
   ]
  },
  {
   "cell_type": "markdown",
   "metadata": {},
   "source": [
    "#### 3. Write a Python function that takes a list of words and returns the length of the longest one"
   ]
  },
  {
   "cell_type": "code",
   "execution_count": 2,
   "metadata": {},
   "outputs": [
    {
     "name": "stdout",
     "output_type": "stream",
     "text": [
      " longest length  wewefwef  and length is  8\n"
     ]
    }
   ],
   "source": [
    "def longest_word(word):\n",
    "    maximum=len(word[0])\n",
    "    count=word[0]\n",
    "    for loop in word:\n",
    "        if(len(loop)>maximum):\n",
    "            maximum=len(loop)\n",
    "            count=loop\n",
    "    print(\" longest length \", count,\n",
    "    \" and length is \", maximum)\n",
    "            \n",
    "word=('wewefwef','efwefwef','efe')  \n",
    "longest_word(word)"
   ]
  },
  {
   "cell_type": "markdown",
   "metadata": {},
   "source": [
    "#### 4. Write a Python program to count the occurrences of each word in a given sentence"
   ]
  },
  {
   "cell_type": "code",
   "execution_count": 28,
   "metadata": {},
   "outputs": [
    {
     "name": "stdout",
     "output_type": "stream",
     "text": [
      "{'the': 1, 'boy': 1, 'is': 1, 'playikng': 1, 'cricket': 1}\n"
     ]
    }
   ],
   "source": [
    "def occurrences(string):\n",
    "    count=dict()\n",
    "    word=string.split()\n",
    "    for loop in word:\n",
    "        if loop in count:\n",
    "            count[loop]+=1\n",
    "        else:\n",
    "            count[loop]=1\n",
    "\n",
    "    return count \n",
    "string=\"the boy is playikng cricket\"\n",
    "print(occurrences(string))"
   ]
  },
  {
   "cell_type": "markdown",
   "metadata": {},
   "source": [
    "#### 5. Write a Python function to convert a given string to all uppercase if it contains at least 2 uppercase characters in the first 4 characters."
   ]
  },
  {
   "cell_type": "code",
   "execution_count": 35,
   "metadata": {},
   "outputs": [
    {
     "data": {
      "text/plain": [
       "'ADCASF'"
      ]
     },
     "execution_count": 35,
     "metadata": {},
     "output_type": "execute_result"
    }
   ],
   "source": [
    "def upper(string):\n",
    "    num=0\n",
    "    for char in string[:4]:\n",
    "        if char.upper()==char:\n",
    "            num+=1\n",
    "    if num>=2:\n",
    "        return string.upper()\n",
    "    return string \n",
    "string='AdcAsf'\n",
    "upper(string)\n",
    "    "
   ]
  },
  {
   "cell_type": "markdown",
   "metadata": {},
   "source": [
    "#### 6. Write a Python program to count and display the vowels of a given text"
   ]
  },
  {
   "cell_type": "code",
   "execution_count": 46,
   "metadata": {},
   "outputs": [
    {
     "name": "stdout",
     "output_type": "stream",
     "text": [
      "7\n",
      "['e', 'o', 'i', 'a', 'i', 'i', 'e']\n"
     ]
    }
   ],
   "source": [
    "sentence='the boy is playing cricket'\n",
    "vowels='aeiouAEIOU'\n",
    "        \n",
    "ans=[loop for loop in sentence if loop in vowels]\n",
    "print(len(ans))"
   ]
  }
 ],
 "metadata": {
  "kernelspec": {
   "display_name": "Python 3 (ipykernel)",
   "language": "python",
   "name": "python3"
  },
  "language_info": {
   "codemirror_mode": {
    "name": "ipython",
    "version": 3
   },
   "file_extension": ".py",
   "mimetype": "text/x-python",
   "name": "python",
   "nbconvert_exporter": "python",
   "pygments_lexer": "ipython3",
   "version": "3.9.12"
  }
 },
 "nbformat": 4,
 "nbformat_minor": 2
}
