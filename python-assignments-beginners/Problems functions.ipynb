{
 "cells": [
  {
   "cell_type": "markdown",
   "metadata": {},
   "source": [
    "### Python functions - Exercises"
   ]
  },
  {
   "cell_type": "markdown",
   "metadata": {},
   "source": [
    "#### 1. Write a Python function to find the Max of three numbers."
   ]
  },
  {
   "cell_type": "code",
   "execution_count": null,
   "metadata": {},
   "outputs": [],
   "source": [
    "def find_max_of_three_number(num1,num2,num3):\n",
    "    if ((num1>num2) and (num1>num3)):\n",
    "        return num1\n",
    "    elif ((num2>num1) and (num2>num3)):\n",
    "         return num2\n",
    "    else: return num3\n",
    "          \n",
    "find_max_of_three_number(1,1,1)"
   ]
  },
  {
   "cell_type": "markdown",
   "metadata": {},
   "source": [
    "#### 2.  Write a Python function to sum all the numbers in a list"
   ]
  },
  {
   "cell_type": "code",
   "execution_count": null,
   "metadata": {},
   "outputs": [],
   "source": [
    "def sum_of_list(list1):\n",
    "    return sum(list1)\n",
    "list1=[1,2,3]\n",
    "sum_of_list(list1)"
   ]
  },
  {
   "cell_type": "markdown",
   "metadata": {},
   "source": [
    "#### 3. Write a Python function to multiply all the numbers in a list"
   ]
  },
  {
   "cell_type": "code",
   "execution_count": null,
   "metadata": {},
   "outputs": [],
   "source": [
    "def multiply_values_in_list(list1):\n",
    "    ans=1\n",
    "    for loop in list1:\n",
    "        ans=ans*loop\n",
    "    return ans\n",
    "list1=[1,2,3,3,3]\n",
    "ans=1\n",
    "multiply_values_in_list(list1)\n",
    "        "
   ]
  },
  {
   "cell_type": "markdown",
   "metadata": {},
   "source": [
    "#### 4. Write a Python function that accepts a string and calculate the number of upper case letters and lower case letters"
   ]
  },
  {
   "cell_type": "code",
   "execution_count": null,
   "metadata": {},
   "outputs": [],
   "source": [
    "def count_upper_and_Lower_case_letters(string=input()):\n",
    "    upper_count=0\n",
    "    lower_count=0\n",
    "    for loop in string:\n",
    "        if (loop<=chr(65) and loop>=chr(90)):\n",
    "            upper_count+=1\n",
    "        else:lower_count+=1\n",
    "    return upper_count, lower_count\n",
    "\n",
    "print(count_upper_and_Lower_case_letters())    "
   ]
  },
  {
   "cell_type": "markdown",
   "metadata": {},
   "source": [
    "#### 5. Write a Python function that takes a list and returns a new list with unique elements of the first list"
   ]
  },
  {
   "cell_type": "code",
   "execution_count": 29,
   "metadata": {},
   "outputs": [
    {
     "data": {
      "text/plain": [
       "{1, 2, 3, 4, 6, 7, 8, 9}"
      ]
     },
     "execution_count": 29,
     "metadata": {},
     "output_type": "execute_result"
    }
   ],
   "source": [
    "def unique_element(list1):\n",
    "    list2=[]\n",
    "    for loop in list1:\n",
    "        if loop not in list2:\n",
    "            list2.append(loop)\n",
    "    return list2\n",
    "unique_element(list1=[1,1,1,2,2,3,2,1,3,4,7,8,9,6])\n"
   ]
  },
  {
   "cell_type": "markdown",
   "metadata": {},
   "source": [
    "#### 6. Write a Python program to print the even numbers from a given list"
   ]
  },
  {
   "cell_type": "code",
   "execution_count": null,
   "metadata": {},
   "outputs": [],
   "source": [
    "def even_numbers(list1):\n",
    "    list2=[]\n",
    "    for loop in list1:\n",
    "        if loop%2==0:\n",
    "            list2.append(loop)\n",
    "    return list2        \n",
    "list1=[1,2,3,4,5,7,9]\n",
    "even_numbers(list1)"
   ]
  },
  {
   "cell_type": "markdown",
   "metadata": {},
   "source": [
    "#### 7. Write a Python function that checks whether a passed string is palindrome or not"
   ]
  },
  {
   "cell_type": "code",
   "execution_count": 4,
   "metadata": {},
   "outputs": [
    {
     "name": "stdout",
     "output_type": "stream",
     "text": [
      "True\n"
     ]
    }
   ],
   "source": [
    "def is_palindrome(string):\n",
    "    left_position=0\n",
    "    right_position=len(string)-1\n",
    "    while right_position>=left_position:\n",
    "        if not string[right_position]==string[left_position]:\n",
    "            return False\n",
    "        left_position+=1\n",
    "        right_position-=1\n",
    "    return True\n",
    "print(is_palindrome(\"wow\"))\n",
    "     "
   ]
  },
  {
   "cell_type": "markdown",
   "metadata": {},
   "source": [
    "#### 8. Write a Python program to access a function inside a function"
   ]
  },
  {
   "cell_type": "code",
   "execution_count": 26,
   "metadata": {},
   "outputs": [
    {
     "name": "stdout",
     "output_type": "stream",
     "text": [
      "44\n",
      "44\n",
      "88\n"
     ]
    }
   ],
   "source": [
    "class math:\n",
    "    def addition(salary=int(input()),comission=int(input())):\n",
    "        return salary+comission\n",
    "    def total_salary(addition):\n",
    "         return addition()\n",
    "    \n",
    "    print(total_salary(addition))"
   ]
  },
  {
   "cell_type": "markdown",
   "metadata": {},
   "source": [
    "#### 9. Write a Python program to detect the number of local variables declared in a function."
   ]
  },
  {
   "cell_type": "code",
   "execution_count": 38,
   "metadata": {},
   "outputs": [
    {
     "name": "stdout",
     "output_type": "stream",
     "text": [
      "3\n"
     ]
    }
   ],
   "source": [
    "def count_variable():\n",
    "    num,string,list1=1,\"yes\",[2,3,4]\n",
    "print(count_variable.__code__.co_nlocals)"
   ]
  }
 ],
 "metadata": {
  "kernelspec": {
   "display_name": "Python 3 (ipykernel)",
   "language": "python",
   "name": "python3"
  },
  "language_info": {
   "codemirror_mode": {
    "name": "ipython",
    "version": 3
   },
   "file_extension": ".py",
   "mimetype": "text/x-python",
   "name": "python",
   "nbconvert_exporter": "python",
   "pygments_lexer": "ipython3",
   "version": "3.9.12"
  }
 },
 "nbformat": 4,
 "nbformat_minor": 2
}
