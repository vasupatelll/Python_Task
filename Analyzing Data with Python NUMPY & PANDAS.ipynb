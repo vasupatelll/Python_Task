{
 "cells": [
  {
   "cell_type": "markdown",
   "id": "a60814f5",
   "metadata": {},
   "source": [
    "### NUMPY"
   ]
  },
  {
   "cell_type": "markdown",
   "id": "6f95e468",
   "metadata": {},
   "source": [
    "<b>Q.1 Convert a 1D array to a 2D array with 2 rows"
   ]
  },
  {
   "cell_type": "code",
   "execution_count": 53,
   "id": "eccdfdc3",
   "metadata": {},
   "outputs": [],
   "source": [
    "import numpy as np\n",
    "import pandas as pd\n",
    "from sklearn.datasets import load_iris\n",
    "import matplotlib.pyplot as plt"
   ]
  },
  {
   "cell_type": "code",
   "execution_count": 2,
   "id": "c31e242c",
   "metadata": {},
   "outputs": [
    {
     "name": "stdout",
     "output_type": "stream",
     "text": [
      "Converted Numpy array:\n",
      "[[1 2]\n",
      " [3 4]\n",
      " [5 6]\n",
      " [7 8]]\n"
     ]
    }
   ],
   "source": [
    "data = [(1, 2), (3, 4), (5, 6), (7, 8)]\n",
    "\n",
    "# Convert 1D array of tuples to Numpy array\n",
    "numpy_array = np.vstack([np.array(t) for t in data])\n",
    "\n",
    "# Print the Numpy array\n",
    "print(\"Converted Numpy array:\")\n",
    "print(numpy_array)"
   ]
  },
  {
   "cell_type": "markdown",
   "id": "01a03a46",
   "metadata": {},
   "source": [
    "<b>Q.2 Get the common items between a and b \n"
   ]
  },
  {
   "cell_type": "code",
   "execution_count": 9,
   "id": "3ecb4009",
   "metadata": {},
   "outputs": [
    {
     "name": "stdout",
     "output_type": "stream",
     "text": [
      "[2 4]\n"
     ]
    }
   ],
   "source": [
    "a = np.array([1,2,3,2,3,4,3,4,5,6])\n",
    "b = np.array([7,2,10,2,7,4,9,4,9,8]) \n",
    "\n",
    "# Common values between two arrays \n",
    "print(np.intersect1d(a, b))"
   ]
  },
  {
   "cell_type": "markdown",
   "id": "f1366f24",
   "metadata": {},
   "source": [
    "<b>Q.3 Get all items between 5 and 10 from a. \n"
   ]
  },
  {
   "cell_type": "code",
   "execution_count": 26,
   "id": "16a6adbe",
   "metadata": {},
   "outputs": [
    {
     "name": "stdout",
     "output_type": "stream",
     "text": [
      "[ 6  9 10]\n"
     ]
    }
   ],
   "source": [
    "a = np.array([2, 6, 1, 9, 10, 3, 27]) \n",
    "result = a[(a >= 5) & (a <= 10)]\n",
    "print(result)"
   ]
  },
  {
   "cell_type": "markdown",
   "id": "1f00a50c",
   "metadata": {},
   "source": [
    "<b>Q.4 Limit the number of items printed in python NumPy array a to a maximum of 6\n",
    "elements. "
   ]
  },
  {
   "cell_type": "code",
   "execution_count": 27,
   "id": "06097131",
   "metadata": {},
   "outputs": [
    {
     "name": "stdout",
     "output_type": "stream",
     "text": [
      "[ 0  1  2 ... 12 13 14]\n"
     ]
    }
   ],
   "source": [
    "a = np.array([0, 1, 2, 3, 4, 5, 6, 7, 8, 9, 10, 11, 12, 13, 14])\n",
    "\n",
    "np.set_printoptions(threshold=6)\n",
    "print(a)"
   ]
  },
  {
   "cell_type": "markdown",
   "id": "a539bd8b",
   "metadata": {},
   "source": [
    "### PANDAS"
   ]
  },
  {
   "cell_type": "markdown",
   "id": "ffb0668a",
   "metadata": {},
   "source": [
    "<b>Compute the minimum, 25th percentile, median, 75th, and maximum of ser"
   ]
  },
  {
   "cell_type": "code",
   "execution_count": 30,
   "id": "deac539f",
   "metadata": {},
   "outputs": [
    {
     "name": "stdout",
     "output_type": "stream",
     "text": [
      "Minimum: 0.002847938076587453\n",
      "25th Percentile (1st Quartile): 0.29446967785489825\n",
      "Median (2nd Quartile): 0.5684917663291037\n",
      "75th Percentile (3rd Quartile): 0.7851299765301524\n",
      "Maximum: 0.9952778346404497\n"
     ]
    }
   ],
   "source": [
    "ser = pd.Series(np.random.rand(100))\n",
    "\n",
    "# Compute the minimum, 25th percentile, median, 75th percentile, and maximum\n",
    "minimum = ser.min()\n",
    "q1 = ser.quantile(0.25)\n",
    "median = ser.median()\n",
    "q3 = ser.quantile(0.75)\n",
    "maximum = ser.max()\n",
    "\n",
    "print(f\"Minimum: {minimum}\")\n",
    "print(f\"25th Percentile (1st Quartile): {q1}\")\n",
    "print(f\"Median (2nd Quartile): {median}\")\n",
    "print(f\"75th Percentile (3rd Quartile): {q3}\")\n",
    "print(f\"Maximum: {maximum}\")"
   ]
  },
  {
   "cell_type": "markdown",
   "id": "5fb08491",
   "metadata": {},
   "source": [
    "<b> Creating A Pandas Data Frame and Using Sample Data Sets "
   ]
  },
  {
   "cell_type": "code",
   "execution_count": 32,
   "id": "3f50d091",
   "metadata": {},
   "outputs": [
    {
     "data": {
      "text/html": [
       "<div>\n",
       "<style scoped>\n",
       "    .dataframe tbody tr th:only-of-type {\n",
       "        vertical-align: middle;\n",
       "    }\n",
       "\n",
       "    .dataframe tbody tr th {\n",
       "        vertical-align: top;\n",
       "    }\n",
       "\n",
       "    .dataframe thead th {\n",
       "        text-align: right;\n",
       "    }\n",
       "</style>\n",
       "<table border=\"1\" class=\"dataframe\">\n",
       "  <thead>\n",
       "    <tr style=\"text-align: right;\">\n",
       "      <th></th>\n",
       "      <th>Name</th>\n",
       "      <th>Age</th>\n",
       "      <th>City</th>\n",
       "    </tr>\n",
       "  </thead>\n",
       "  <tbody>\n",
       "    <tr>\n",
       "      <th>0</th>\n",
       "      <td>Alice</td>\n",
       "      <td>25</td>\n",
       "      <td>New York</td>\n",
       "    </tr>\n",
       "    <tr>\n",
       "      <th>1</th>\n",
       "      <td>Bob</td>\n",
       "      <td>30</td>\n",
       "      <td>Los Angeles</td>\n",
       "    </tr>\n",
       "    <tr>\n",
       "      <th>2</th>\n",
       "      <td>Charlie</td>\n",
       "      <td>35</td>\n",
       "      <td>Chicago</td>\n",
       "    </tr>\n",
       "    <tr>\n",
       "      <th>3</th>\n",
       "      <td>David</td>\n",
       "      <td>28</td>\n",
       "      <td>Houston</td>\n",
       "    </tr>\n",
       "    <tr>\n",
       "      <th>4</th>\n",
       "      <td>Eve</td>\n",
       "      <td>22</td>\n",
       "      <td>Miami</td>\n",
       "    </tr>\n",
       "  </tbody>\n",
       "</table>\n",
       "</div>"
      ],
      "text/plain": [
       "      Name  Age         City\n",
       "0    Alice   25     New York\n",
       "1      Bob   30  Los Angeles\n",
       "2  Charlie   35      Chicago\n",
       "3    David   28      Houston\n",
       "4      Eve   22        Miami"
      ]
     },
     "execution_count": 32,
     "metadata": {},
     "output_type": "execute_result"
    }
   ],
   "source": [
    "data = {\n",
    "    'Name': ['Alice', 'Bob', 'Charlie', 'David', 'Eve'],\n",
    "    'Age': [25, 30, 35, 28, 22],\n",
    "    'City': ['New York', 'Los Angeles', 'Chicago', 'Houston', 'Miami']\n",
    "}\n",
    "\n",
    "df1 = pd.DataFrame(data)\n",
    "df1"
   ]
  },
  {
   "cell_type": "markdown",
   "id": "21060bfc",
   "metadata": {},
   "source": [
    "<b>Using NumPy, create a Pandas Data Frame with five rows and three columns."
   ]
  },
  {
   "cell_type": "code",
   "execution_count": 34,
   "id": "6a17c492",
   "metadata": {},
   "outputs": [
    {
     "name": "stdout",
     "output_type": "stream",
     "text": [
      "    Column1   Column2   Column3\n",
      "0  0.745519  0.799181  0.293646\n",
      "1  0.488860  0.136890  0.269994\n",
      "2  0.606392  0.320372  0.038695\n",
      "3  0.543313  0.449318  0.216189\n",
      "4  0.161702  0.080291  0.976066\n"
     ]
    }
   ],
   "source": [
    "data = np.random.rand(5, 3)\n",
    "\n",
    "df = pd.DataFrame(data, columns=['Column1', 'Column2', 'Column3'])\n",
    "print(df)"
   ]
  },
  {
   "cell_type": "markdown",
   "id": "a9d1e527",
   "metadata": {},
   "source": [
    "<b>For a Pandas Data Frame created from a NumPy array, what is the default behavior for\n",
    "the labels for the columns? For the rows?"
   ]
  },
  {
   "cell_type": "code",
   "execution_count": 36,
   "id": "795c1a42",
   "metadata": {},
   "outputs": [
    {
     "name": "stdout",
     "output_type": "stream",
     "text": [
      "   0  1  2\n",
      "0  1  2  3\n",
      "1  4  5  6\n",
      "2  7  8  9\n"
     ]
    }
   ],
   "source": [
    "data = np.array([[1, 2, 3],\n",
    "                 [4, 5, 6],\n",
    "                 [7, 8, 9]])\n",
    "\n",
    "\n",
    "df = pd.DataFrame(data)\n",
    "print(df)"
   ]
  },
  {
   "cell_type": "markdown",
   "id": "9082f736",
   "metadata": {},
   "source": [
    "<b>take csv file contains at least 10,000 rows and 12 columns which numerical and text values\n",
    "according to that continue following steps. \n",
    "\n"
   ]
  },
  {
   "cell_type": "code",
   "execution_count": 48,
   "id": "b7d5f4ec",
   "metadata": {},
   "outputs": [
    {
     "data": {
      "text/html": [
       "<div>\n",
       "<style scoped>\n",
       "    .dataframe tbody tr th:only-of-type {\n",
       "        vertical-align: middle;\n",
       "    }\n",
       "\n",
       "    .dataframe tbody tr th {\n",
       "        vertical-align: top;\n",
       "    }\n",
       "\n",
       "    .dataframe thead th {\n",
       "        text-align: right;\n",
       "    }\n",
       "</style>\n",
       "<table border=\"1\" class=\"dataframe\">\n",
       "  <thead>\n",
       "    <tr style=\"text-align: right;\">\n",
       "      <th></th>\n",
       "      <th>v1</th>\n",
       "      <th>v2</th>\n",
       "      <th>Unnamed: 2</th>\n",
       "      <th>Unnamed: 3</th>\n",
       "      <th>Unnamed: 4</th>\n",
       "    </tr>\n",
       "  </thead>\n",
       "  <tbody>\n",
       "    <tr>\n",
       "      <th>0</th>\n",
       "      <td>ham</td>\n",
       "      <td>Go until jurong point, crazy.. Available only ...</td>\n",
       "      <td>NaN</td>\n",
       "      <td>NaN</td>\n",
       "      <td>NaN</td>\n",
       "    </tr>\n",
       "    <tr>\n",
       "      <th>1</th>\n",
       "      <td>ham</td>\n",
       "      <td>Ok lar... Joking wif u oni...</td>\n",
       "      <td>NaN</td>\n",
       "      <td>NaN</td>\n",
       "      <td>NaN</td>\n",
       "    </tr>\n",
       "    <tr>\n",
       "      <th>2</th>\n",
       "      <td>spam</td>\n",
       "      <td>Free entry in 2 a wkly comp to win FA Cup fina...</td>\n",
       "      <td>NaN</td>\n",
       "      <td>NaN</td>\n",
       "      <td>NaN</td>\n",
       "    </tr>\n",
       "    <tr>\n",
       "      <th>3</th>\n",
       "      <td>ham</td>\n",
       "      <td>U dun say so early hor... U c already then say...</td>\n",
       "      <td>NaN</td>\n",
       "      <td>NaN</td>\n",
       "      <td>NaN</td>\n",
       "    </tr>\n",
       "    <tr>\n",
       "      <th>4</th>\n",
       "      <td>ham</td>\n",
       "      <td>Nah I don't think he goes to usf, he lives aro...</td>\n",
       "      <td>NaN</td>\n",
       "      <td>NaN</td>\n",
       "      <td>NaN</td>\n",
       "    </tr>\n",
       "    <tr>\n",
       "      <th>...</th>\n",
       "      <td>...</td>\n",
       "      <td>...</td>\n",
       "      <td>...</td>\n",
       "      <td>...</td>\n",
       "      <td>...</td>\n",
       "    </tr>\n",
       "    <tr>\n",
       "      <th>5567</th>\n",
       "      <td>spam</td>\n",
       "      <td>This is the 2nd time we have tried 2 contact u...</td>\n",
       "      <td>NaN</td>\n",
       "      <td>NaN</td>\n",
       "      <td>NaN</td>\n",
       "    </tr>\n",
       "    <tr>\n",
       "      <th>5568</th>\n",
       "      <td>ham</td>\n",
       "      <td>Will Ì_ b going to esplanade fr home?</td>\n",
       "      <td>NaN</td>\n",
       "      <td>NaN</td>\n",
       "      <td>NaN</td>\n",
       "    </tr>\n",
       "    <tr>\n",
       "      <th>5569</th>\n",
       "      <td>ham</td>\n",
       "      <td>Pity, * was in mood for that. So...any other s...</td>\n",
       "      <td>NaN</td>\n",
       "      <td>NaN</td>\n",
       "      <td>NaN</td>\n",
       "    </tr>\n",
       "    <tr>\n",
       "      <th>5570</th>\n",
       "      <td>ham</td>\n",
       "      <td>The guy did some bitching but I acted like i'd...</td>\n",
       "      <td>NaN</td>\n",
       "      <td>NaN</td>\n",
       "      <td>NaN</td>\n",
       "    </tr>\n",
       "    <tr>\n",
       "      <th>5571</th>\n",
       "      <td>ham</td>\n",
       "      <td>Rofl. Its true to its name</td>\n",
       "      <td>NaN</td>\n",
       "      <td>NaN</td>\n",
       "      <td>NaN</td>\n",
       "    </tr>\n",
       "  </tbody>\n",
       "</table>\n",
       "<p>5572 rows × 5 columns</p>\n",
       "</div>"
      ],
      "text/plain": [
       "        v1                                                 v2 Unnamed: 2  \\\n",
       "0      ham  Go until jurong point, crazy.. Available only ...        NaN   \n",
       "1      ham                      Ok lar... Joking wif u oni...        NaN   \n",
       "2     spam  Free entry in 2 a wkly comp to win FA Cup fina...        NaN   \n",
       "3      ham  U dun say so early hor... U c already then say...        NaN   \n",
       "4      ham  Nah I don't think he goes to usf, he lives aro...        NaN   \n",
       "...    ...                                                ...        ...   \n",
       "5567  spam  This is the 2nd time we have tried 2 contact u...        NaN   \n",
       "5568   ham              Will Ì_ b going to esplanade fr home?        NaN   \n",
       "5569   ham  Pity, * was in mood for that. So...any other s...        NaN   \n",
       "5570   ham  The guy did some bitching but I acted like i'd...        NaN   \n",
       "5571   ham                         Rofl. Its true to its name        NaN   \n",
       "\n",
       "     Unnamed: 3 Unnamed: 4  \n",
       "0           NaN        NaN  \n",
       "1           NaN        NaN  \n",
       "2           NaN        NaN  \n",
       "3           NaN        NaN  \n",
       "4           NaN        NaN  \n",
       "...         ...        ...  \n",
       "5567        NaN        NaN  \n",
       "5568        NaN        NaN  \n",
       "5569        NaN        NaN  \n",
       "5570        NaN        NaN  \n",
       "5571        NaN        NaN  \n",
       "\n",
       "[5572 rows x 5 columns]"
      ]
     },
     "execution_count": 48,
     "metadata": {},
     "output_type": "execute_result"
    }
   ],
   "source": [
    "df = pd.read_csv(\"spam.csv\", encoding='latin-1')\n",
    "df"
   ]
  },
  {
   "cell_type": "code",
   "execution_count": 49,
   "id": "05eeb130",
   "metadata": {},
   "outputs": [
    {
     "name": "stdout",
     "output_type": "stream",
     "text": [
      "     v1                                                 v2 Unnamed: 2  \\\n",
      "0   ham  Go until jurong point, crazy.. Available only ...        NaN   \n",
      "1   ham                      Ok lar... Joking wif u oni...        NaN   \n",
      "2  spam  Free entry in 2 a wkly comp to win FA Cup fina...        NaN   \n",
      "3   ham  U dun say so early hor... U c already then say...        NaN   \n",
      "4   ham  Nah I don't think he goes to usf, he lives aro...        NaN   \n",
      "\n",
      "  Unnamed: 3 Unnamed: 4  \n",
      "0        NaN        NaN  \n",
      "1        NaN        NaN  \n",
      "2        NaN        NaN  \n",
      "3        NaN        NaN  \n",
      "4        NaN        NaN  \n",
      "<class 'pandas.core.frame.DataFrame'>\n",
      "RangeIndex: 5572 entries, 0 to 5571\n",
      "Data columns (total 5 columns):\n",
      " #   Column      Non-Null Count  Dtype \n",
      "---  ------      --------------  ----- \n",
      " 0   v1          5572 non-null   object\n",
      " 1   v2          5572 non-null   object\n",
      " 2   Unnamed: 2  50 non-null     object\n",
      " 3   Unnamed: 3  12 non-null     object\n",
      " 4   Unnamed: 4  6 non-null      object\n",
      "dtypes: object(5)\n",
      "memory usage: 217.8+ KB\n",
      "None\n",
      "          v1                      v2  \\\n",
      "count   5572                    5572   \n",
      "unique     2                    5169   \n",
      "top      ham  Sorry, I'll call later   \n",
      "freq    4825                      30   \n",
      "\n",
      "                                               Unnamed: 2  \\\n",
      "count                                                  50   \n",
      "unique                                                 43   \n",
      "top      bt not his girlfrnd... G o o d n i g h t . . .@\"   \n",
      "freq                                                    3   \n",
      "\n",
      "                   Unnamed: 3 Unnamed: 4  \n",
      "count                      12          6  \n",
      "unique                     10          5  \n",
      "top      MK17 92H. 450Ppw 16\"    GNT:-)\"  \n",
      "freq                        2          2  \n",
      "(5572, 5)\n"
     ]
    }
   ],
   "source": [
    "print(df.head())\n",
    "print(df.info())\n",
    "print(df.describe())\n",
    "print(df.shape)"
   ]
  },
  {
   "cell_type": "markdown",
   "id": "bce48a14",
   "metadata": {},
   "source": [
    "<b> Write the code to show the number of rows and columns in data frame. \n"
   ]
  },
  {
   "cell_type": "code",
   "execution_count": 50,
   "id": "51ce7d2f",
   "metadata": {},
   "outputs": [
    {
     "name": "stdout",
     "output_type": "stream",
     "text": [
      "Number of rows: 5572\n",
      "Number of columns: 5\n"
     ]
    }
   ],
   "source": [
    "num_rows, num_columns = df.shape\n",
    "\n",
    "print(f'Number of rows: {num_rows}')\n",
    "print(f'Number of columns: {num_columns}')"
   ]
  },
  {
   "cell_type": "markdown",
   "id": "b72c2c4b",
   "metadata": {},
   "source": [
    " <b>How might you show the first few rows of data frame? "
   ]
  },
  {
   "cell_type": "code",
   "execution_count": 51,
   "id": "ea506ee7",
   "metadata": {},
   "outputs": [
    {
     "name": "stdout",
     "output_type": "stream",
     "text": [
      "First 5 rows:\n",
      "     v1                                                 v2 Unnamed: 2  \\\n",
      "0   ham  Go until jurong point, crazy.. Available only ...        NaN   \n",
      "1   ham                      Ok lar... Joking wif u oni...        NaN   \n",
      "2  spam  Free entry in 2 a wkly comp to win FA Cup fina...        NaN   \n",
      "3   ham  U dun say so early hor... U c already then say...        NaN   \n",
      "4   ham  Nah I don't think he goes to usf, he lives aro...        NaN   \n",
      "\n",
      "  Unnamed: 3 Unnamed: 4  \n",
      "0        NaN        NaN  \n",
      "1        NaN        NaN  \n",
      "2        NaN        NaN  \n",
      "3        NaN        NaN  \n",
      "4        NaN        NaN  \n",
      "First 10 rows:\n",
      "     v1                                                 v2 Unnamed: 2  \\\n",
      "0   ham  Go until jurong point, crazy.. Available only ...        NaN   \n",
      "1   ham                      Ok lar... Joking wif u oni...        NaN   \n",
      "2  spam  Free entry in 2 a wkly comp to win FA Cup fina...        NaN   \n",
      "3   ham  U dun say so early hor... U c already then say...        NaN   \n",
      "4   ham  Nah I don't think he goes to usf, he lives aro...        NaN   \n",
      "5  spam  FreeMsg Hey there darling it's been 3 week's n...        NaN   \n",
      "6   ham  Even my brother is not like to speak with me. ...        NaN   \n",
      "7   ham  As per your request 'Melle Melle (Oru Minnamin...        NaN   \n",
      "8  spam  WINNER!! As a valued network customer you have...        NaN   \n",
      "9  spam  Had your mobile 11 months or more? U R entitle...        NaN   \n",
      "\n",
      "  Unnamed: 3 Unnamed: 4  \n",
      "0        NaN        NaN  \n",
      "1        NaN        NaN  \n",
      "2        NaN        NaN  \n",
      "3        NaN        NaN  \n",
      "4        NaN        NaN  \n",
      "5        NaN        NaN  \n",
      "6        NaN        NaN  \n",
      "7        NaN        NaN  \n",
      "8        NaN        NaN  \n",
      "9        NaN        NaN  \n"
     ]
    }
   ],
   "source": [
    "first_five_rows = df.head()\n",
    "print(\"First 5 rows:\")\n",
    "print(first_five_rows)\n",
    "\n",
    "# To display the first N rows, replace N with the desired number\n",
    "N = 10  \n",
    "first_N_rows = df.head(N)\n",
    "print(f\"First {N} rows:\")\n",
    "print(first_N_rows)"
   ]
  },
  {
   "cell_type": "markdown",
   "id": "60240f18",
   "metadata": {},
   "source": [
    "<b>Create a line plot using the x and y values provided below. Label the y-axis as “Y” and\n",
    "label the x-axis as “X”. "
   ]
  },
  {
   "cell_type": "code",
   "execution_count": 54,
   "id": "b0d369d2",
   "metadata": {},
   "outputs": [
    {
     "data": {
      "image/png": "[encoded data removed]",
      "text/plain": [
       "<Figure size 640x480 with 1 Axes>"
      ]
     },
     "metadata": {},
     "output_type": "display_data"
    }
   ],
   "source": [
    "x = [3, 4, 5, 6]\n",
    "y = [1.5, 2, 2.5, 3]\n",
    "\n",
    "plt.plot(x, y)\n",
    "\n",
    "plt.xlabel('X')\n",
    "plt.ylabel('Y')\n",
    "\n",
    "plt.show()"
   ]
  },
  {
   "cell_type": "markdown",
   "id": "9b8e747e",
   "metadata": {},
   "source": [
    "<b>Create an array of numbers between 0 and 6 with increments of 0.3 and name its “x”.\n",
    "Then on the same plot, plot x, x², x³, and x⁴. For consistency, use the following style lines\n",
    "respectively, “ro”, “bs”, “g”, and “:”. Lastly, make sure that the x-axis covers 0 to 6, while\n",
    "the y-axis spans from 0 to 125. Do not worry if you are not familiar with the style lines —\n",
    "you will recognize them as soon as you see the plot. \n"
   ]
  },
  {
   "cell_type": "code",
   "execution_count": 55,
   "id": "e306afd8",
   "metadata": {},
   "outputs": [
    {
     "data": {
      "image/png": "[encoded data removed]",
      "text/plain": [
       "<Figure size 640x480 with 1 Axes>"
      ]
     },
     "metadata": {},
     "output_type": "display_data"
    }
   ],
   "source": [
    "x = np.arange(0, 6.3, 0.3)\n",
    "\n",
    "x_squared = x**2\n",
    "x_cubed = x**3\n",
    "x_to_the_fourth = x**4\n",
    "\n",
    "plt.plot(x, x, 'ro', label='x')\n",
    "plt.plot(x, x_squared, 'bs', label='x²')\n",
    "plt.plot(x, x_cubed, 'g', label='x³')\n",
    "plt.plot(x, x_to_the_fourth, ':', label='x⁴')\n",
    "\n",
    "plt.xlim(0, 6)\n",
    "plt.ylim(0, 125)\n",
    "\n",
    "plt.xlabel('X')\n",
    "plt.ylabel('Y')\n",
    "\n",
    "plt.legend()\n",
    "\n",
    "plt.show()"
   ]
  },
  {
   "cell_type": "markdown",
   "id": "fdc63b5e",
   "metadata": {},
   "source": [
    "<b>Heights and initials of a group of individuals are provided below. Create a bar plot titled\n",
    "“Height Comparison” to compare the heights among this group.\n",
    "height = [179, 155, 191, 152, 188, 177]\n",
    "names = ['QA', 'WB', 'EC', 'RD', 'TE', 'YF'] \n"
   ]
  },
  {
   "cell_type": "code",
   "execution_count": 56,
   "id": "7e8c179f",
   "metadata": {},
   "outputs": [
    {
     "data": {
      "image/png": "[encoded data removed]",
      "text/plain": [
       "<Figure size 640x480 with 1 Axes>"
      ]
     },
     "metadata": {},
     "output_type": "display_data"
    }
   ],
   "source": [
    "height = [179, 155, 191, 152, 188, 177]\n",
    "names = ['QA', 'WB', 'EC', 'RD', 'TE', 'YF']\n",
    "\n",
    "plt.bar(names, height)\n",
    "\n",
    "plt.title('Height Comparison')\n",
    "plt.xlabel('Initials')\n",
    "plt.ylabel('Height (in cm)')\n",
    "\n",
    "plt.show()"
   ]
  },
  {
   "cell_type": "markdown",
   "id": "820b16ea",
   "metadata": {},
   "source": [
    "<b>Plot a histogram of x, where x consists of 100,000 randomly-selected points with a normal\n",
    "distribution (hint: you can use numpy.random.randn() to generate the random points). The\n",
    "histogram should have 10 bins. Look at how the histogram changes when we try 20 and 50\n",
    "bins. \n"
   ]
  },
  {
   "cell_type": "code",
   "execution_count": 57,
   "id": "5c5d4430",
   "metadata": {},
   "outputs": [
    {
     "data": {
      "image/png": "[encoded data removed]",
      "text/plain": [
       "<Figure size 1200x400 with 3 Axes>"
      ]
     },
     "metadata": {},
     "output_type": "display_data"
    }
   ],
   "source": [
    "x = np.random.randn(100000)\n",
    "\n",
    "bins_values = [10, 20, 50]\n",
    "\n",
    "plt.figure(figsize=(12, 4))\n",
    "\n",
    "for i, bins in enumerate(bins_values):\n",
    "    plt.subplot(1, 3, i + 1)\n",
    "    plt.hist(x, bins=bins, color='blue', alpha=0.7)\n",
    "    plt.title(f'{bins} Bins')\n",
    "    plt.xlabel('Value')\n",
    "    plt.ylabel('Frequency')\n",
    "\n",
    "plt.tight_layout()\n",
    "plt.show()"
   ]
  },
  {
   "cell_type": "markdown",
   "id": "a55ec3fb",
   "metadata": {},
   "source": [
    "<b>What are the features of TensorFlow? \n"
   ]
  },
  {
   "cell_type": "markdown",
   "id": "d3bee1d8",
   "metadata": {},
   "source": [
    "TensorFlow, an open-source machine learning framework developed by Google, offers a robust set of features for developing, training, and deploying machine learning models. Its flexibility allows the creation of a wide variety of model types, with a focus on deep learning. TensorFlow is renowned for its high performance, thanks to GPU and TPU acceleration, making it suitable for large-scale projects. Its scalability ensures it can be used on diverse platforms, from single devices to distributed clusters.\n",
    "\n",
    "One of its standout features is its Keras integration, which simplifies the creation of deep neural networks. TensorFlow also provides pre-trained models that can be fine-tuned for specific tasks, making model development more efficient. With TensorBoard, users can visually monitor and debug models. TensorFlow's extensive community support, comprehensive documentation, and numerous deployment options make it an appealing choice for machine learning practitioners. Its multi-language support and interoperability further enhance its utility. TensorFlow remains a go-to framework for research and production-level machine learning projects."
   ]
  },
  {
   "cell_type": "markdown",
   "id": "e8e8b8cf",
   "metadata": {},
   "source": [
    "<b>List a few limitations of TensorFlow. \n"
   ]
  },
  {
   "cell_type": "markdown",
   "id": "6314f020",
   "metadata": {},
   "source": [
    "TensorFlow, a leading open-source machine learning framework, possesses several limitations that users should consider. One of its primary drawbacks is its steep learning curve, making it challenging for beginners to master. Its verbosity can result in longer and less concise code, as compared to higher-level frameworks like Keras. Debugging TensorFlow models can be difficult due to unclear error messages, increasing the time required for issue resolution. While TensorFlow offers support for reinforcement learning, it may not be as well-equipped for this domain as other specialized frameworks.\n",
    "\n",
    "Moreover, TensorFlow can be resource-intensive, particularly when training deep learning models with GPUs or TPUs, potentially limiting its accessibility. Model compatibility can be a concern when TensorFlow versions evolve, demanding meticulous management. Performance tuning for optimization and the complexity of serving models in production environments are additional challenges. Interoperability with other frameworks can sometimes be tricky to achieve, and resource management, especially for GPU memory, can be demanding. Despite these limitations, TensorFlow remains a dominant force in machine learning, supported by a large community and a vast ecosystem."
   ]
  },
  {
   "cell_type": "markdown",
   "id": "bd751f65",
   "metadata": {},
   "source": [
    "<b>What do you know about supervised and unsupervised machine learning?\n"
   ]
  },
  {
   "cell_type": "markdown",
   "id": "06e07fe3",
   "metadata": {},
   "source": [
    "Supervised and unsupervised machine learning are two fundamental categories of machine learning, each with distinct characteristics and applications.\n",
    "\n",
    "Supervised Machine Learning:\n",
    "\n",
    "Definition: In supervised learning, the algorithm is trained on a labeled dataset, which means the input data is paired with corresponding target labels or outcomes. The goal is to learn a mapping from input data to output labels based on the provided examples.\n",
    "Training Process: The algorithm is exposed to input data and their associated labels during the training phase. It adjusts its internal parameters to make predictions that are as close as possible to the true labels.\n",
    "Use Cases: Supervised learning is used for tasks such as classification (assigning inputs to categories) and regression (predicting numerical values). Common applications include spam detection, image classification, and predicting house prices.\n",
    "Unsupervised Machine Learning:\n",
    "\n",
    "Definition: Unsupervised learning deals with datasets lacking labeled output. The algorithm explores the data's inherent structure, relationships, or patterns without specific guidance on what to look for.\n",
    "Training Process: Unsupervised learning algorithms identify patterns, groupings, or clusters in the data by finding commonalities among data points. Clustering and dimensionality reduction are common unsupervised learning techniques.\n",
    "Use Cases: Unsupervised learning is used for clustering (grouping similar data points together) and dimensionality reduction (simplifying data while preserving important information). Applications include customer segmentation, anomaly detection, and topic modeling."
   ]
  }
 ],
 "metadata": {
  "kernelspec": {
   "display_name": "Python 3 (ipykernel)",
   "language": "python",
   "name": "python3"
  },
  "language_info": {
   "codemirror_mode": {
    "name": "ipython",
    "version": 3
   },
   "file_extension": ".py",
   "mimetype": "text/x-python",
   "name": "python",
   "nbconvert_exporter": "python",
   "pygments_lexer": "ipython3",
   "version": "3.11.1"
  }
 },
 "nbformat": 4,
 "nbformat_minor": 5
}
