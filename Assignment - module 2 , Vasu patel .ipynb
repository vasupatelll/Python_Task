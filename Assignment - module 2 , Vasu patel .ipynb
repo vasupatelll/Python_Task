{
 "cells": [
  {
   "cell_type": "code",
   "execution_count": null,
   "id": "8bd53ad9",
   "metadata": {},
   "outputs": [],
   "source": [
    "# Q1 positive negative and zero \n",
    "\n",
    "a=int(input ())\n",
    "\n",
    "if (a>=1):\n",
    "    print (\"it is positive \")\n",
    "elif (a<=-1):\n",
    "    print (\"it is negative \")\n",
    "elif(a==0):\n",
    "    print (\"it is zero\")"
   ]
  },
  {
   "cell_type": "code",
   "execution_count": 1,
   "id": "4bf540b9",
   "metadata": {},
   "outputs": [
    {
     "name": "stdout",
     "output_type": "stream",
     "text": [
      "5\n",
      "120\n"
     ]
    }
   ],
   "source": [
    "#Q2 Factorial\n",
    "\n",
    "a=int (input ())\n",
    "b=1\n",
    "\n",
    "while (a>0):\n",
    "    b=b*a\n",
    "    a=a-1\n",
    "print(b)\n"
   ]
  },
  {
   "cell_type": "markdown",
   "id": "144c3dfa",
   "metadata": {},
   "source": [
    " "
   ]
  },
  {
   "cell_type": "code",
   "execution_count": null,
   "id": "eed16168",
   "metadata": {},
   "outputs": [],
   "source": [
    "#Q3 Fibonachi number \n",
    "\n",
    "enter = int (input())\n",
    "store=0\n",
    "a=0\n",
    "b=1\n",
    "\n",
    "while (store<enter):\n",
    "    if(store<=1):\n",
    "        c= store\n",
    "    else:\n",
    "        c=a+b\n",
    "        a=b\n",
    "        b=c\n",
    "    print(c,end=\"\")\n",
    "    store=store+1\n",
    "\n"
   ]
  },
  {
   "cell_type": "code",
   "execution_count": null,
   "id": "9980d28f",
   "metadata": {},
   "outputs": [],
   "source": [
    "# Q4 How memory is managed in Python\n",
    "\n",
    "\"\"\" Python uses the dynamic memory allocation which is managed by the Heap data structure. \n",
    "Memory Heap holds the objects and other data structures that will be used in the program. \n",
    "Python memory manager manages the allocation or de-allocation of the heap memory space through the API functions \"\"\"\n",
    " \n",
    "\n"
   ]
  },
  {
   "cell_type": "code",
   "execution_count": null,
   "id": "f1f31b6a",
   "metadata": {},
   "outputs": [],
   "source": [
    "#Q5 What is the purpose continue statement in python?\n",
    "\n",
    "\"\"\"\" The continue statement passes control to the next iteration of the nearest enclosing do , \n",
    "for , or while statement in which it appears, bypassing any remaining statements in the do \n",
    ", for , or while statement body \"\"\"\n"
   ]
  },
  {
   "cell_type": "code",
   "execution_count": null,
   "id": "db6ce83b",
   "metadata": {},
   "outputs": [],
   "source": [
    "#Q6 Write python program that swap two number with temp variable and without temp variable.\n",
    "a=int (input())\n",
    "b=int (input())\n",
    "\n",
    "print (\"A =\", a , \",\",\"B =\",b)\n",
    "a,b=b,a\n",
    "print (\"A =\", a , \",\",\"B =\",b)"
   ]
  },
  {
   "cell_type": "code",
   "execution_count": null,
   "id": "3fe43c2a",
   "metadata": {},
   "outputs": [],
   "source": [
    "#Q7 Write a Python program to find whether a given number is even or odd, print out an appropriate message to the user.\n",
    "\n",
    "enter=int(input())\n",
    "if (enter%2==0):\n",
    "    print (\"it is even number\")\n",
    "else:\n",
    "    print (\"it is odd number\")"
   ]
  },
  {
   "cell_type": "code",
   "execution_count": null,
   "id": "9f3e863e",
   "metadata": {},
   "outputs": [],
   "source": [
    "#Q8 Write a Python program to test whether a passed letter is a vowel or not.\n",
    "enter=str(input())\n",
    "if (enter in \"aeiouAEIOU\"):\n",
    "    print(\"it is vowel\") \n",
    "else:\n",
    "    print(\"it is not vowel\")"
   ]
  },
  {
   "cell_type": "code",
   "execution_count": null,
   "id": "47dcc933",
   "metadata": {},
   "outputs": [],
   "source": [
    "#Q9 Write a Python program to sum of three given integers.However, if two values are equal sum will be zero.\n",
    "\n",
    "a=int (input (\"Enter number\"))\n",
    "b=int (input (\"Enter number\"))\n",
    "c=int (input (\"Enter number\"))\n",
    "sum = 0 \n",
    "if (a==b and b==c and c==a ):\n",
    "    print (\"The sum of three inputs are\",sum )\n",
    "else:\n",
    "    total=a+b+c\n",
    "    sum=total\n",
    "    print(\"The sum total of three inputs are \",total)"
   ]
  },
  {
   "cell_type": "code",
   "execution_count": null,
   "id": "91facbe7",
   "metadata": {},
   "outputs": [],
   "source": [
    "#Q10 Write a Python program that will return true ifthe two given integervalues are equal or their sum or difference is 5.\n",
    "\n",
    "a=int(input( \"Enter number \"))\n",
    "b=int(input(\" Enter number \"))\n",
    "if(a==5 and b==5):\n",
    "    print (\"True\")\n",
    "elif(a+b==5):\n",
    "    print(\"true\")\n",
    "elif(a-b==5 or b-a==5):\n",
    "    print(\"true\")\n",
    "else:\n",
    "    print(\"false\")"
   ]
  },
  {
   "cell_type": "code",
   "execution_count": null,
   "id": "2a081100",
   "metadata": {},
   "outputs": [],
   "source": [
    "#Q11 Write a python program to sum of the first n positive integers.\n",
    "\n",
    "a=int(input(\"Enter Number = \"))\n",
    "sum=0\n",
    "for i in range (1,a+1):\n",
    "    sum=sum+i\n",
    "print(\"Sum of all numbers are =\",sum)    "
   ]
  },
  {
   "cell_type": "code",
   "execution_count": null,
   "id": "0e7bceb1",
   "metadata": {},
   "outputs": [],
   "source": [
    "#Q12 Write a Python program to calculate the length of a string\n",
    "\n",
    "str1=input()\n",
    "print(\"length of th string is = \",len(str1))\n"
   ]
  },
  {
   "cell_type": "code",
   "execution_count": 1,
   "id": "b7237af8",
   "metadata": {},
   "outputs": [
    {
     "name": "stdout",
     "output_type": "stream",
     "text": [
      "Enter the String: vasu is a bpy \n",
      "{'v': 1, 'a': 2, 's': 2, 'u': 1, ' ': 4, 'i': 1, 'b': 1, 'p': 1, 'y': 1}\n"
     ]
    }
   ],
   "source": [
    "#Q13 Write a Python program to count the number of characters (character frequency) in a string\n",
    "\n",
    "n=input(\"Enter the String: \")\n",
    "s={}\n",
    "for i in n:\n",
    "    if i in s:\n",
    "        s[i]+=1\n",
    "    else:\n",
    "        s[i]=1\n",
    "print(s)"
   ]
  },
  {
   "cell_type": "code",
   "execution_count": null,
   "id": "b55004de",
   "metadata": {},
   "outputs": [],
   "source": [
    "#Q14 What are negative indexes and why are they used?\n",
    "\n",
    "\"\"\"\" Negative index are used when we want to select or want out put from end of the pargraph , it works as right to left\n",
    "from the bottom (end of the paragraph), eg - -5,-4-,3-,2-,1 \"\"\""
   ]
  },
  {
   "cell_type": "code",
   "execution_count": null,
   "id": "196fb17b",
   "metadata": {},
   "outputs": [],
   "source": [
    "#Q15 Write a Python program to count occurrences of a substring in a string.\n",
    "\n",
    "str1 = \"python is easy and it is a programming language .\"\n",
    "print()\n",
    "print(str1.count(\"a\"))\n",
    "print()\n",
    "\n"
   ]
  },
  {
   "cell_type": "code",
   "execution_count": 3,
   "id": "381a2799",
   "metadata": {},
   "outputs": [
    {
     "name": "stdout",
     "output_type": "stream",
     "text": [
      "Enter string:vasu\n",
      "Enter word:vasu\n",
      "Count of the word is:\n",
      "1\n"
     ]
    }
   ],
   "source": [
    "#Q16 Write a Python program to count the occurrences of each word in a given sentence\n",
    "\n",
    "string=input(\"Enter string:\")\n",
    "word=input(\"Enter word:\")\n",
    "a=[]\n",
    "count=0\n",
    "a=string.split(\" \")\n",
    "for i in range(0,len(a)):\n",
    "      if(word==a[i]):\n",
    "            count=count+1\n",
    "print(\"Count of the word is:\")\n",
    "print(count)"
   ]
  },
  {
   "cell_type": "code",
   "execution_count": 1,
   "id": "80d4b903",
   "metadata": {},
   "outputs": [
    {
     "name": "stdout",
     "output_type": "stream",
     "text": [
      "apple\n",
      "banana\n",
      "baple apnana\n"
     ]
    }
   ],
   "source": [
    "#Q17  Write a Python program to get a single string from two given strings,separated by a space and swap the first two characters of each string\n",
    "\n",
    "a=input()\n",
    "\n",
    "b=input()\n",
    "\n",
    "x=a[0:2]\n",
    "\n",
    "a=a.replace(a[0:2],b[0:2])\n",
    "\n",
    "b=b.replace(b[0:2],x)\n",
    "\n",
    "print(a,b)"
   ]
  },
  {
   "cell_type": "code",
   "execution_count": 5,
   "id": "b57981c4",
   "metadata": {},
   "outputs": [
    {
     "name": "stdout",
     "output_type": "stream",
     "text": [
      "abing\n",
      "abc\n",
      "stringly\n"
     ]
    }
   ],
   "source": [
    "#Q18 Write a Python program to add 'ing' at the end of a given string (length\n",
    "# should be at least 3). If the given string already ends with 'ing' then add 'ly'\n",
    "# insteadif the string length of the given string is less than 3, leave it\n",
    "# unchanged.\n",
    "\n",
    "def add_string(str1):\n",
    "    length = len(str1)\n",
    "\n",
    "    if length > 2:\n",
    "        if str1[-3:] == 'ing':\n",
    "            str1 += 'ly'\n",
    "    else:\n",
    "        str1 += 'ing'\n",
    "    \n",
    "    return str1\n",
    "print(add_string('ab'))\n",
    "print(add_string('abc'))\n",
    "print(add_string('string'))"
   ]
  },
  {
   "cell_type": "code",
   "execution_count": 15,
   "id": "7e530304",
   "metadata": {},
   "outputs": [
    {
     "name": "stdout",
     "output_type": "stream",
     "text": [
      "The lyrics is good!\n",
      "The lyrics is poor!\n"
     ]
    }
   ],
   "source": [
    "#Q19  Write a Python program to find the first appearance of the substring 'not'\n",
    "# and 'poor' froma given string, if 'not' follows the 'poor', replace the whole\n",
    "# 'not'...'poor'substring with 'good'. Return the resulting string.\n",
    "\n",
    "\n",
    "def not_poor(str1):\n",
    "  snot = str1.find('not')\n",
    "  spoor = str1.find('poor')\n",
    "  \n",
    "\n",
    "  if spoor > snot and snot>0 and spoor>0:\n",
    "    str1 = str1.replace(str1[snot:(spoor+4)], 'good')\n",
    "    return str1\n",
    "  else:\n",
    "    return str1\n",
    "print(not_poor('The lyrics is not that poor!'))\n",
    "print(not_poor('The lyrics is poor!'))\n"
   ]
  },
  {
   "cell_type": "code",
   "execution_count": 9,
   "id": "69bcd2bb",
   "metadata": {},
   "outputs": [
    {
     "name": "stdout",
     "output_type": "stream",
     "text": [
      "\n",
      "Longest word:  Exercises\n",
      "Length of the longest word:  9\n"
     ]
    }
   ],
   "source": [
    "#Q20 Write a Python function that takes a list of words and returns the length of the longest one.\n",
    "\n",
    "\n",
    "def find_longest_word(words_list):\n",
    "    word_len = []\n",
    "    for n in words_list:\n",
    "        word_len.append((len(n), n))\n",
    "    word_len.sort()\n",
    "    return word_len[-1][0], word_len[-1][1]\n",
    "result = find_longest_word([\"PHP\", \"Exercises\", \"Backend\"])\n",
    "print(\"\\nLongest word: \",result[1])\n",
    "print(\"Length of the longest word: \",result[0])"
   ]
  },
  {
   "cell_type": "code",
   "execution_count": 13,
   "id": "48a7423e",
   "metadata": {},
   "outputs": [
    {
     "name": "stdout",
     "output_type": "stream",
     "text": [
      "dcba\n",
      "python\n"
     ]
    }
   ],
   "source": [
    "#Q21 Write a Python function to reverses a string if its length is a multiple of 4.\n",
    "\n",
    "def reverse_string(str1):\n",
    "    if len(str1) % 4 == 0:\n",
    "        return ''.join(reversed(str1))\n",
    "    return str1\n",
    "\n",
    "print( reverse_string('abcd'))\n",
    "print( reverse_string('python'))"
   ]
  },
  {
   "cell_type": "code",
   "execution_count": 9,
   "id": "e9f0d1e8",
   "metadata": {},
   "outputs": [
    {
     "name": "stdout",
     "output_type": "stream",
     "text": [
      "aaa bbb \n",
      "aab \n"
     ]
    }
   ],
   "source": [
    "#Q22  Write a Python program to get a string made of the first 2 and the last 2\n",
    "# chars from a given a string. Ifthe string length islessthan 2,return instead\n",
    "# of the empty string.\n",
    "\n",
    "str1=input()\n",
    "if len(str1) > 2:\n",
    "    str3 = str1[0:2] + str1[-2:]\n",
    "    print(str3)\n",
    "else:\n",
    "    print(\" \")\n",
    "\n",
    "# print(string_both_ends('w3resource'))\n",
    "# print(string_both_ends('w3'))\n",
    "# print(string_both_ends('w'))"
   ]
  },
  {
   "cell_type": "code",
   "execution_count": 6,
   "id": "69e27688",
   "metadata": {},
   "outputs": [
    {
     "name": "stdout",
     "output_type": "stream",
     "text": [
      "[[Python]]\n",
      "{{PHP}}\n",
      "<<HTML>>\n"
     ]
    }
   ],
   "source": [
    "#Q23 Write a Python function to insert a string in the middle of a string.\n",
    "\n",
    "def insert_sting_middle(str, word):\n",
    "    return str[:2] + word + str[2:]\n",
    "\n",
    "print(insert_sting_middle('[[]]', 'Python'))\n",
    "print(insert_sting_middle('{{}}', 'PHP'))\n",
    "print(insert_sting_middle('<<>>', 'HTML'))\n"
   ]
  },
  {
   "cell_type": "code",
   "execution_count": null,
   "id": "7bb04e5d",
   "metadata": {},
   "outputs": [],
   "source": []
  }
 ],
 "metadata": {
  "kernelspec": {
   "display_name": "Python 3 (ipykernel)",
   "language": "python",
   "name": "python3"
  },
  "language_info": {
   "codemirror_mode": {
    "name": "ipython",
    "version": 3
   },
   "file_extension": ".py",
   "mimetype": "text/x-python",
   "name": "python",
   "nbconvert_exporter": "python",
   "pygments_lexer": "ipython3",
   "version": "3.9.12"
  }
 },
 "nbformat": 4,
 "nbformat_minor": 5
}
