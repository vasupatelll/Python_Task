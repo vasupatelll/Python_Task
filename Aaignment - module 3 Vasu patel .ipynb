{
 "cells": [
  {
   "cell_type": "code",
   "execution_count": null,
   "id": "c314c33e",
   "metadata": {},
   "outputs": [],
   "source": [
    "# Q1 What is List? How will you reverse a list?\n",
    "  \n",
    "'list is a data type which stores multiple datatypes in it. It is also orderd , indexted and mutable '\n",
    "'we can reverse the list by simply using reverse function for eg -'\n",
    "\n",
    "list1=[1,2,3,4,5]\n",
    "list1.reverse()\n",
    "print(list1)"
   ]
  },
  {
   "cell_type": "code",
   "execution_count": null,
   "id": "eafa354a",
   "metadata": {},
   "outputs": [],
   "source": [
    "# Q2 How will you remove last object from a list?\n",
    "\n",
    "'there are 2 functions that we can use to remove last object from list - 1. pop 2. remove'\n",
    "\n",
    "list1=[1,2,3,4]\n",
    "list1.pop()\n",
    "print (list1)\n",
    "\n",
    "list2=[1,2,3,4]\n",
    "list2.remove(4)\n",
    "print(list2)\n"
   ]
  },
  {
   "cell_type": "code",
   "execution_count": null,
   "id": "e95d728c",
   "metadata": {},
   "outputs": [],
   "source": [
    "# Q3 Suppose list1 is [2, 33, 222, 14, and 25], what is list1 [-1]?\n",
    "\n",
    "list1 =[2, 33, 222, 14, 25]\n",
    "list1[-1]\n",
    "\n",
    "' list[-1] is 25 '"
   ]
  },
  {
   "cell_type": "code",
   "execution_count": null,
   "id": "68fb75ee",
   "metadata": {
    "scrolled": true
   },
   "outputs": [],
   "source": [
    "# Q4 Differentiate between append () and extend () methods?\n",
    "' APPEND adds only one given data in the end of the list where AS EXTEND can add multiple data in the end of the string '"
   ]
  },
  {
   "cell_type": "code",
   "execution_count": null,
   "id": "b2173945",
   "metadata": {
    "scrolled": true
   },
   "outputs": [],
   "source": [
    "# Q5 Write a Python function to get the largest number,smallest num and sum of all from a list\n",
    "\n",
    "list1=[2,3,1,5,7,6]\n",
    "num=sum(list1)\n",
    "\n",
    "def func1():\n",
    "    list1.sort()\n",
    "    print('largest number',list1[-1],'smallest number',list1[0])\n",
    "    print('sum of the list is ',num)\n",
    "    \n",
    "print(func1())\n",
    "\n",
    "\n",
    "\n",
    "    "
   ]
  },
  {
   "cell_type": "code",
   "execution_count": null,
   "id": "165f4bf5",
   "metadata": {},
   "outputs": [],
   "source": [
    "# Q6 How will you compare two lists?\n",
    "\n",
    "list1=[1,2,3,4,5,0,9,8,7]\n",
    "list2=[1,2,3,4,5,0,9,8,7]\n",
    "list1.sort\n",
    "list2.sort\n",
    "if list1==list2:\n",
    "    print(list1,list2,'\\nboth Lists are same')\n",
    "else:\n",
    "    print(list1,list2,'\\nboth lists are not same')"
   ]
  },
  {
   "cell_type": "code",
   "execution_count": null,
   "id": "828fef6b",
   "metadata": {},
   "outputs": [],
   "source": [
    "# Q7 Write a Python program to count the number of strings where the string \n",
    "# length is 2 or more and the first and last character are same from a given \n",
    "# list of strings.\n",
    "\n",
    "list1=[]\n",
    "count=0\n",
    "num=int(input('Enter the number of elements - '))\n",
    "for i in range (0,num):\n",
    "    elements=input('Enter the strings ')\n",
    "    list1.append(elements)\n",
    "for elements in list1:\n",
    "    if (len(elements)>1 and elements[0]==elements[-1]):\n",
    "        count+=1\n",
    "print('condition output of the string is ',count)        "
   ]
  },
  {
   "cell_type": "code",
   "execution_count": null,
   "id": "ae9099f2",
   "metadata": {},
   "outputs": [],
   "source": [
    "# Q8 Write a Python program to remove duplicates from a list\n",
    "\n",
    "list1=[1,2,3,4,4,3,2,1]\n",
    "list2=[]\n",
    "for numbers in list1:\n",
    "    if numbers not in list2:\n",
    "        list2.append(numbers)\n",
    "print(list2)  \n",
    "        "
   ]
  },
  {
   "cell_type": "code",
   "execution_count": null,
   "id": "755460d7",
   "metadata": {},
   "outputs": [],
   "source": [
    "# Q9 Write a Python program to check a list is empty or not.\n",
    "\n",
    "list1=[]\n",
    "list2=[]\n",
    "num=int(input('Enter the number of elments'))\n",
    "for i in  range(0,num):\n",
    "    try:\n",
    "        elements=int(input())\n",
    "    except:\n",
    "        elements=input()\n",
    "    finally:\n",
    "        list1.append(elements)\n",
    "if list1==list2:\n",
    "    print('it is empty')\n",
    "else:\n",
    "    print('it is not empty')"
   ]
  },
  {
   "cell_type": "code",
   "execution_count": null,
   "id": "bdd18a07",
   "metadata": {},
   "outputs": [],
   "source": [
    "00000000000000000 # Q10  \n",
    "\n",
    "list1=[]\n",
    "list2=[]\n",
    "\n",
    "num=int(input('Enter the number of elments for list 1 - '))\n",
    "for i in  range(0,num):\n",
    "    try:\n",
    "        elements=int(input(\"Enter - \"))\n",
    "    except:\n",
    "        elements=input(\"Enter- \")\n",
    "    finally:\n",
    "        list1.append(elements)\n",
    "        \n",
    "num2=int(input('Enter the number of elments for list 2 - '))\n",
    "\n",
    "for j in  range(0,num2):\n",
    "    try:\n",
    "        elements=int(input(\"Enter - \"))\n",
    "    except:\n",
    "        elements=input(\"Enter - \")\n",
    "    finally:\n",
    "        list2.append(elements)    \n",
    "        \n",
    "def check():\n",
    "    count=0            \n",
    "    for k in list1:\n",
    "        if k not in list2:\n",
    "            count=0\n",
    "        else:\n",
    "            count+=1\n",
    "    if count <=1:\n",
    "        print(' it is equal')\n",
    "    else:\n",
    "        print(' it is not equal')\n",
    "            \n",
    "print(check())                    "
   ]
  },
  {
   "cell_type": "code",
   "execution_count": null,
   "id": "3fe78bbd",
   "metadata": {},
   "outputs": [],
   "source": [
    "# Q11 Write a Python program to generate and print a list of first and last 5 \n",
    "#     elements where the values are square of numbers between 1 and 30.\n",
    "\n",
    "list1=[]\n",
    "list2=[]\n",
    "square=0\n",
    "for i in range(1,30):\n",
    "    square=i*i\n",
    "    list1.append(square)\n",
    "list2.append(list1[:5]) \n",
    "list2.append(list1[-1:-5:-1])\n",
    "print(list2)\n",
    "    \n"
   ]
  },
  {
   "cell_type": "code",
   "execution_count": null,
   "id": "7bdd9c4c",
   "metadata": {},
   "outputs": [],
   "source": [
    "# Q12 Write a Python program to convert a list of characters into a string. \n",
    "\n",
    "list1=[]\n",
    "list2=[]\n",
    "str1=\"\"\n",
    "num= int(input('Enter number of elements - '))\n",
    "for i in range(0,num):\n",
    "    elements=input('Enter - ')\n",
    "    list1.append(elements)\n",
    "a=''.join(list1)\n",
    "list2.append(a)\n",
    "print(list2)"
   ]
  },
  {
   "cell_type": "code",
   "execution_count": null,
   "id": "c98502bc",
   "metadata": {},
   "outputs": [],
   "source": [
    "# Q13 Write a Python program to select an item randomly from a list.\n",
    "\n",
    "import random \n",
    "\n",
    "list1=[]\n",
    "num= int(input('Enter number of elements - '))\n",
    "for i in range(0,num):\n",
    "    elements=input('Enter - ')\n",
    "    list1.append(elements)\n",
    "print(random.choice(list1))    "
   ]
  },
  {
   "cell_type": "code",
   "execution_count": null,
   "id": "4dd95641",
   "metadata": {},
   "outputs": [],
   "source": [
    "# Q14 Write a Python program to find the second smallest number in a list\n",
    "\n",
    "list1=[]\n",
    "num=int(input(\"Enter number of elements - \"))\n",
    "for i in range(0,num):\n",
    "    elements=int(input(\"Enter - \"))\n",
    "    list1.append(elements)\n",
    "    list1.sort()\n",
    "print(\"Your second smallest element is - \", list1[1])    "
   ]
  },
  {
   "cell_type": "code",
   "execution_count": null,
   "id": "236ad180",
   "metadata": {},
   "outputs": [],
   "source": [
    "# Q15 Write a Python program to get unique values from a list ?\n",
    "\n",
    "list1=[]\n",
    "list2=[]\n",
    "num=int(input(\"Enter the number of elemets - \"))\n",
    "for i in range(0,num):\n",
    "    elements=int(input(\"Enter - \"))\n",
    "    list1.append(elements)\n",
    "for j in list1:\n",
    "    if j not in list2:\n",
    "        list2.append(j)\n",
    "print(list2)        "
   ]
  },
  {
   "cell_type": "code",
   "execution_count": null,
   "id": "b3a5116f",
   "metadata": {},
   "outputs": [],
   "source": [
    "# Q16 Write a Python program to check whether a list contains a sub list\n",
    "\n",
    "list1=[]\n",
    "list2=[]\n",
    "res=False\n",
    "num=int(input(\"Enter the number of elements - \"))\n",
    "for i in range(0,num):\n",
    "    elements=int(input(\"Enter - \"))\n",
    "    list1.append(elements)\n",
    "    \n",
    "num2=int(input(\"Enter the number of elements - \"))\n",
    "for j in range(0,num2):\n",
    "    elements2=int(input(\"Enter - \"))\n",
    "    list2.append(elements2)  \n",
    "    \n",
    "for idx in range(len(list1)-len(list2)+1):\n",
    "    if list1[idx:idx+len(list2)] == list2:\n",
    "        res=True\n",
    "        break \n",
    "print(\"Is sublist present in list ? : \" + str(res))        "
   ]
  },
  {
   "cell_type": "code",
   "execution_count": null,
   "id": "cfc5484b",
   "metadata": {},
   "outputs": [],
   "source": [
    "# Q17 Write a Python program to split a list into different variables.\n",
    "\n",
    "color = [(\"Black\", \"#000000\", \"rgb(0, 0, 0)\"), (\"Red\", \"#FF0000\", \"rgb(255, 0, 0)\")]\n",
    "var1, var2 = color\n",
    "print(var1)\n",
    "print(var2)\n",
    "print(var3)"
   ]
  },
  {
   "cell_type": "code",
   "execution_count": null,
   "id": "96929b76",
   "metadata": {},
   "outputs": [],
   "source": [
    "# Q18 What is tuple? Difference between list and tuple.\n",
    "\n",
    "\" list are indexted,mutable,ordered and list have specific Parentheses denoted as - []\"\n",
    "\"\"\"\" tuple are the collection of datatype, multiple data type are stored in tuple , tuple are alse ordered and indested\n",
    "      but they are unchangeable\"\"\""
   ]
  },
  {
   "cell_type": "code",
   "execution_count": null,
   "id": "cd4304bf",
   "metadata": {},
   "outputs": [],
   "source": [
    "# Q19 Write a Python program to create a tuple with different data types.\n",
    "\n",
    "tuple1=(1,2,3,4,'apple',True,False,(1,2,3),[1,2,3])\n",
    "print(tuple1)"
   ]
  },
  {
   "cell_type": "code",
   "execution_count": null,
   "id": "222f94ea",
   "metadata": {},
   "outputs": [],
   "source": [
    "# Q20 Write a Python program to create a tuple with numbers.\n",
    "tuple1 = (1,2,3,4)\n",
    "print(tuple1)"
   ]
  },
  {
   "cell_type": "code",
   "execution_count": null,
   "id": "5cddc2bb",
   "metadata": {},
   "outputs": [],
   "source": [
    "# Q21 Write a Python program to convert a tuple to a string.\n",
    "tuple1=('v','a','s','u')\n",
    "string=\" \".join(tuple1)\n",
    "print(string)"
   ]
  },
  {
   "cell_type": "code",
   "execution_count": null,
   "id": "86196df6",
   "metadata": {},
   "outputs": [],
   "source": [
    "# Q22 Write a Python program to check whether an element exists within a tuple\n",
    "tuple1=('v','a','s','u')\n",
    "etup='s'\n",
    "for i in tuple1:\n",
    "    if i==etup:\n",
    "        print('yes it exists')\n",
    "\n",
    "        "
   ]
  },
  {
   "cell_type": "code",
   "execution_count": null,
   "id": "bffabf7e",
   "metadata": {},
   "outputs": [],
   "source": [
    "# Q23 Write a Python program to find the length of a tuple\n",
    "tuple1=(1,2,3,4,5,6)\n",
    "print(len(tuple1))"
   ]
  },
  {
   "cell_type": "code",
   "execution_count": null,
   "id": "2af08d5c",
   "metadata": {},
   "outputs": [],
   "source": [
    "# Q24 Write a Python program to convert a list to a tuple \n",
    "list1=[]\n",
    "num=int(input(\"Enter the number of elemets - \"))\n",
    "for i in range(0,num):\n",
    "    elements=int(input(\"Enter - \"))\n",
    "    list1.append(elements)\n",
    "tup=tuple(list1)\n",
    "print(tup)"
   ]
  },
  {
   "cell_type": "code",
   "execution_count": null,
   "id": "b119076f",
   "metadata": {},
   "outputs": [],
   "source": [
    "# Q25 Write a Python program to reverse a tuple\n",
    "\n",
    "tup=(1,2,3,4,5)\n",
    "\n",
    "def reverse(tup):\n",
    "    tupp=tup[::-1]\n",
    "    return tupp\n",
    "print(reverse(tup))"
   ]
  },
  {
   "cell_type": "code",
   "execution_count": null,
   "id": "ccef1b62",
   "metadata": {},
   "outputs": [],
   "source": [
    "# Q26 Write a Python program to replace last value of tuples in a list\n",
    "\n",
    "tup=(1,2,3,4,5)\n",
    "print([tup[:-1] + (6,)])\n",
    "\n"
   ]
  },
  {
   "cell_type": "code",
   "execution_count": null,
   "id": "b68576d3",
   "metadata": {},
   "outputs": [],
   "source": [
    "# Q27 Write a Python program to find the repeated items of a tuple.\n",
    "\n",
    "tup=(1,2,3,1,4,5,6,3)\n",
    "count=tup.count(3)\n",
    "print(count)"
   ]
  },
  {
   "cell_type": "code",
   "execution_count": null,
   "id": "15b9852b",
   "metadata": {},
   "outputs": [],
   "source": [
    "# Q28 Write a Python program to remove an empty tuple(s) from a list of tuples.\n",
    "\n",
    "tup=(1,2,3,4,5,(),6,7)\n",
    "tup1=()\n",
    "list1=[]\n",
    "for i in tup:\n",
    "    if i!=tup1:\n",
    "        list1.append(i)\n",
    "print(list1)        "
   ]
  },
  {
   "cell_type": "code",
   "execution_count": null,
   "id": "56a111b2",
   "metadata": {},
   "outputs": [],
   "source": [
    "# Q29 Write a Python program to unzip a list of tuples into individual lists.\n",
    "\n",
    "tup=(2,34,6,7,5,35,7,8,9)\n",
    "print(list(zip(tup)))"
   ]
  },
  {
   "cell_type": "code",
   "execution_count": null,
   "id": "ed5a4a90",
   "metadata": {},
   "outputs": [],
   "source": [
    "# Q30 Write a Python program to convert a list of tuples into a dictionary \n",
    "\n",
    "tuples = [('Key 1', 1), ('Key 2', 2), ('Key 3', 3), ('Key 4', 4), ('Key 5', 5)]\n",
    "result=dict(tuples)\n",
    "print(result)\n"
   ]
  },
  {
   "cell_type": "code",
   "execution_count": null,
   "id": "92ddbe8d",
   "metadata": {},
   "outputs": [],
   "source": [
    "# Q31 How will you create a dictionary using tuples in python?\n",
    "\n",
    "\"\"\"we will create dictionary using tuple , using dict function and after using dict function\n",
    "we will assign it into one variable and then print it .\"\"\""
   ]
  },
  {
   "cell_type": "code",
   "execution_count": null,
   "id": "8445d5db",
   "metadata": {},
   "outputs": [],
   "source": [
    "# Q32 Write a Python script to sort (ascending and descending) a dictionary by \n",
    "value\n",
    "import operator\n",
    "d = {1: 2, 3: 4, 4: 3, 2: 1, 0: 0}\n",
    "\n",
    "s= sorted(d.items(), key=operator.itemgetter(1))\n",
    "\n",
    "print('ascending order : ',s)\n",
    "\n",
    "s1= dict( sorted(d.items(), key=operator.itemgetter(1),reverse=True))\n",
    "\n",
    "print('descending order : ',s1)"
   ]
  },
  {
   "cell_type": "code",
   "execution_count": null,
   "id": "d0dc2a1b",
   "metadata": {},
   "outputs": [],
   "source": [
    "# Q33 Write a Python script to concatenate following dictionaries to create a new one\n",
    "dict1={1:2,2:3,3:4}\n",
    "dict2={4:5,5:6,6:7}\n",
    "dict3={7:8,8:9,9:10}\n",
    "dict4={}\n",
    "for i in(dict1,dict2,dict3): dict4.update(i)\n",
    "print(dict4)"
   ]
  },
  {
   "cell_type": "code",
   "execution_count": null,
   "id": "c9cd3664",
   "metadata": {},
   "outputs": [],
   "source": [
    "# Q34 Write a Python script to check if a given key already exists in a dictionary\n",
    "\n",
    "d = {1: 10, 2: 20, 3: 30, 4: 40, 5: 50, 6: 60}\n",
    "def is_key_present(x):\n",
    "    if x in d:\n",
    "        print('Key is present in the dictionary')\n",
    "    else:\n",
    "        print('Key is not present in the dictionary')\n",
    "is_key_present(5)\n"
   ]
  },
  {
   "cell_type": "code",
   "execution_count": null,
   "id": "8d84531f",
   "metadata": {},
   "outputs": [],
   "source": [
    "# Q35 How Do You Traverse Through A Dictionary Object In Python\n",
    "D1 = {1:'a', 2:'b', 3:'c'} \n",
    "for k in D1.keys():\n",
    "    print (k, D1[k])"
   ]
  },
  {
   "cell_type": "code",
   "execution_count": null,
   "id": "df937e6b",
   "metadata": {},
   "outputs": [],
   "source": [
    "# Q36 How Do You Check The Presence Of A Key In A Dictionary \n",
    "def checkKey(dict, key):\n",
    "      \n",
    "    if key in dict.keys():\n",
    "        print(\"Present, \", end =\" \")\n",
    "        print(\"value =\", dict[key])\n",
    "    else:\n",
    "        print(\"Not present\")\n",
    "        \n",
    "dict = {'a': 100, 'b':200, 'c':300}\n",
    "  \n",
    "key = 'b'\n",
    "checkKey(dict, key)\n",
    "  \n",
    "key = 'w'\n",
    "checkKey(dict, key)"
   ]
  },
  {
   "cell_type": "code",
   "execution_count": null,
   "id": "a1e2d353",
   "metadata": {},
   "outputs": [],
   "source": [
    "# Q37 Write a Python script to print a dictionary where the keys are numbers between 1 and 15\n",
    "d=dict()\n",
    "for x in range(1,16):\n",
    "    d[x]=x**2\n",
    "print(d)  "
   ]
  },
  {
   "cell_type": "code",
   "execution_count": null,
   "id": "1a6048f5",
   "metadata": {},
   "outputs": [],
   "source": [
    "# Q38 Write a Python program to check multiple keys exists in a dictionary\n",
    "student = {\n",
    "  'name': 'abc',\n",
    "  'class': 'V',\n",
    "  'roll_id': '1'\n",
    "}\n",
    "print(student.keys() >= {'class', 'name'})\n",
    "print(student.keys() >= {'name', 'Alex'})\n",
    "print(student.keys() >= {'roll_id', 'name'})"
   ]
  },
  {
   "cell_type": "code",
   "execution_count": null,
   "id": "0bf1fbb6",
   "metadata": {},
   "outputs": [],
   "source": [
    "# Q39 Write a Python script to merge two Python dictionaries\n",
    "d1 = {'a': 100, 'b': 200}\n",
    "d2 = {'x': 300, 'y': 200}\n",
    "d = d1.copy()\n",
    "d.update(d2)\n",
    "print(d)"
   ]
  },
  {
   "cell_type": "code",
   "execution_count": null,
   "id": "5bf39155",
   "metadata": {},
   "outputs": [],
   "source": [
    "# Q40 write a python program to map two lists into a dictionary\n",
    "keys = ['red', 'green', 'blue']\n",
    "values = ['#FF0000','#008000', '#0000FF']\n",
    "color_dictionary = dict(zip(keys, values))\n",
    "print(color_dictionary)"
   ]
  },
  {
   "cell_type": "code",
   "execution_count": null,
   "id": "7836a320",
   "metadata": {},
   "outputs": [],
   "source": [
    "# Q41 Write a Python program to combine two dictionary adding values for common keys. o d'1 = {'a': 100, 'b': 200, 'c':300} d 2 = {'a': 300, 'b': 200,’d’:400}\n",
    "o d1 = {'a': 100, 'b': 200, 'c':300}\n",
    "o d2 = {'a': 300, 'b': 200,’d’:400}\n",
    "d1 = {'a': 100, 'b': 200, 'c':300}\n",
    "d2 = {'a': 300, 'b': 200, 'd':400}\n",
    "d3 = {}\n",
    "for i, j in d1.items():\n",
    "    for x, y in d2.items():\n",
    "        if i == x:\n",
    "            d3[i]=(j+y)\n",
    "print(d3)"
   ]
  },
  {
   "cell_type": "code",
   "execution_count": null,
   "id": "78b54ef3",
   "metadata": {},
   "outputs": [],
   "source": [
    "# Q42 Write a Python program to print all unique values in a dictionary\n",
    "L = [{\"V\":\"S001\"}, {\"V\": \"S002\"}, {\"VI\": \"S001\"}, {\"VI\": \"S005\"}, {\"VII\":\"S005\"}, {\"V\":\"S009\"},{\"VIII\":\"S007\"}]\n",
    "print(\"Original List: \",L)\n",
    "u_value = set( val for dic in L for val in dic.values())\n",
    "print(\"Unique Values: \",u_value)\n"
   ]
  },
  {
   "cell_type": "code",
   "execution_count": null,
   "id": "9a5d93e8",
   "metadata": {},
   "outputs": [],
   "source": [
    "# Q43 Why Do You Use the Zip () Method in Python?\n",
    "'''Python's zip() function creates an iterator that will aggregate elements from two or more iterables. You can use \n",
    "the resulting iterator to quickly and consistently solve common programming problems, like creating dictionaries.'''"
   ]
  },
  {
   "cell_type": "code",
   "execution_count": null,
   "id": "52039d66",
   "metadata": {},
   "outputs": [],
   "source": [
    "# Q44  Write a Python program to create and display all combinations of letters, selecting each letter from a different key in a dictionary.\n",
    "import itertools      \n",
    "d ={'1':['a','b'], '2':['c','d']}\n",
    "for combo in itertools.product(*[d[k] for k in sorted(d.keys())]):\n",
    "    print(''.join(combo))"
   ]
  },
  {
   "cell_type": "code",
   "execution_count": null,
   "id": "8efa19b5",
   "metadata": {},
   "outputs": [],
   "source": [
    "# Q45 "
   ]
  },
  {
   "cell_type": "code",
   "execution_count": null,
   "id": "7d7ca7d7",
   "metadata": {},
   "outputs": [],
   "source": [
    "# Q46 Write a Python program to combine values in python list of dictionaries.  Sample data: [{'item': 'item1', 'amount': 400}, {'item': 'item2', 'amount':  300}\n",
    "from collections import Counter\n",
    "item_list = [{'item': 'item1', 'amount': 400}, {'item': 'item2', 'amount': 300}, {'item': 'item1', 'amount': 750}]\n",
    "result = Counter()\n",
    "for d in item_list:\n",
    "    result[d['item']] += d['amount']\n",
    "print(result) \n",
    " "
   ]
  },
  {
   "cell_type": "code",
   "execution_count": null,
   "id": "e75876f5",
   "metadata": {},
   "outputs": [],
   "source": [
    "# Q47 Write a Python program to create a dictionary from a string\n",
    "# Note: Track the count of the letters from the string. Sample string:'w3resource'\n",
    "from collections import defaultdict, Counter\n",
    "str1 = 'w3resource' \n",
    "my_dict = {}\n",
    "for letter in str1:\n",
    "    my_dict[letter] = my_dict.get(letter, 0) + 1\n",
    "print(my_dict)\n"
   ]
  },
  {
   "cell_type": "code",
   "execution_count": null,
   "id": "53b7a684",
   "metadata": {},
   "outputs": [],
   "source": [
    "# Q48 Write a Python function to calculate the factorial of a number (a non\u0002negative integer)\n",
    "def factorial(n):\n",
    "    if n == 0:\n",
    "        return 1\n",
    "    else:\n",
    "        return n * factorial(n-1)\n",
    "n=int(input(\"Input a number to compute the factiorial : \"))\n",
    "print(factorial(n))"
   ]
  },
  {
   "cell_type": "code",
   "execution_count": null,
   "id": "75cb7769",
   "metadata": {},
   "outputs": [],
   "source": [
    "# Q49 Write a Python function to check whether a number is in a given range\n",
    "list1=[]\n",
    "num=int(input(\"Enter the numbr of elements - \"))\n",
    "for inp in range(0,num):\n",
    "    elements=int(input(\"Enter  numbers -\"))\n",
    "    list1.append(elements)  \n",
    "def check(inp2):\n",
    "    if inp2 in list1:\n",
    "        print(\"Yes the number is in the range .\")\n",
    "    else:\n",
    "        print(\"No the number is not in the range \")\n",
    "            \n",
    "check(3)\n",
    "\n",
    "    \n",
    "    "
   ]
  },
  {
   "cell_type": "code",
   "execution_count": null,
   "id": "32d9c1d7",
   "metadata": {},
   "outputs": [],
   "source": [
    "# Q50 Write a Python function to check whether a number is perfect or not \n",
    "list1=[]\n",
    "def check(inp):\n",
    "    n=int(input(\"Enter an integer:\"))\n",
    "    for i in range(1,n):\n",
    "        if(n%i==0):\n",
    "            list1.append(i)\n",
    "    print(list1)\n",
    "    if sum(list1)==inp:\n",
    "        print(\"Yes number is perfect\")\n",
    "    else:\n",
    "        print(\"No the number is not perfect\")\n",
    "check(6)    "
   ]
  },
  {
   "cell_type": "code",
   "execution_count": null,
   "id": "fdb67245",
   "metadata": {},
   "outputs": [],
   "source": [
    "# Q51 Write a Python function that checks whether a passed string is palindrome or not\n",
    "def isPalindrome(inp):\n",
    "    return inp == inp[::-1]\n",
    "inp=input()\n",
    "ans = isPalindrome(inp) \n",
    "if ans:\n",
    "    print(\"Yes\")\n",
    "else:\n",
    "    print(\"No\")"
   ]
  },
  {
   "cell_type": "code",
   "execution_count": 2,
   "id": "f849668d",
   "metadata": {},
   "outputs": [
    {
     "data": {
      "text/plain": [
       "\" 1. Import the regex module with import re.\\n2. Create a Regex object with the re. compile() function. \\n3. Pass the string you want to search into the Regex object's search() method. \\n4. Call the Match object's group() method to return a string of the actual matched text.\""
      ]
     },
     "execution_count": 2,
     "metadata": {},
     "output_type": "execute_result"
    }
   ],
   "source": [
    "# Q52  How do you perform pattern matching in Python? Explain \n",
    "\n",
    "\"\"\" 1. Import the regex module with import re.\n",
    "2. Create a Regex object with the re. compile() function. \n",
    "3. Pass the string you want to search into the Regex object's search() method. \n",
    "4. Call the Match object's group() method to return a string of the actual matched text.\"\"\""
   ]
  },
  {
   "cell_type": "code",
   "execution_count": 4,
   "id": "7efc6eca",
   "metadata": {},
   "outputs": [
    {
     "data": {
      "text/plain": [
       "' A lambda function is a small anonymous function. A lambda function can take any number of arguments\\n    we call when a function which is incomplete version of a function is known as stub '"
      ]
     },
     "execution_count": 4,
     "metadata": {},
     "output_type": "execute_result"
    }
   ],
   "source": [
    "# Q53 What is lambda function in python? What we call a function which is incomplete version of a function\n",
    "\n",
    "\"\"\" A lambda function is a small anonymous function. A lambda function can take any number of arguments\n",
    "    we call when a function which is incomplete version of a function is known as stub \"\"\""
   ]
  },
  {
   "cell_type": "code",
   "execution_count": 5,
   "id": "f4c6d991",
   "metadata": {},
   "outputs": [
    {
     "data": {
      "text/plain": [
       "' There are two basic types of functions: built-in functions and user defined functions. \\n    The built-in functions are part of the Python language; for instance dir , len , or abs . \\n    he user defined functions are functions created with the def keyword'"
      ]
     },
     "execution_count": 5,
     "metadata": {},
     "output_type": "execute_result"
    }
   ],
   "source": [
    "# Q54  How Many Basic Types Of Functions Are Available In Python? \n",
    "\n",
    "\"\"\" There are two basic types of functions: built-in functions and user defined functions. \n",
    "    The built-in functions are part of the Python language; for instance dir , len , or abs . \n",
    "    he user defined functions are functions created with the def keyword\"\"\""
   ]
  },
  {
   "cell_type": "code",
   "execution_count": 7,
   "id": "bb19a489",
   "metadata": {},
   "outputs": [
    {
     "data": {
      "text/plain": [
       "' To get random elements from sequence objects such as lists, tuples, strings in Python, use choice() , sample() , \\n    choices() of the random module. choice() returns one random element, and sample() and choices() return a \\n    list of multiple random elements.'"
      ]
     },
     "execution_count": 7,
     "metadata": {},
     "output_type": "execute_result"
    }
   ],
   "source": [
    "# Q55 How can you pick a random item from a list or tuple \n",
    "\n",
    "\"\"\" To get random elements from sequence objects such as lists, tuples, strings in Python, use choice() , sample() , \n",
    "    choices() of the random module. choice() returns one random element, and sample() and choices() return a \n",
    "    list of multiple random elements.\"\"\""
   ]
  },
  {
   "cell_type": "code",
   "execution_count": 8,
   "id": "5b658e3e",
   "metadata": {},
   "outputs": [
    {
     "data": {
      "text/plain": [
       "' Use a random. randrange() function to get a random integer number from the given exclusive range by \\n    specifying the increment. For example, random. randrange(0, 10, 2) will return any random number between 0 and 20\\n    (like 0, 2, 4, 6, 8)'"
      ]
     },
     "execution_count": 8,
     "metadata": {},
     "output_type": "execute_result"
    }
   ],
   "source": [
    "# Q56 How can you pick a random item from a range? \n",
    "\n",
    "\"\"\" Use a random. randrange() function to get a random integer number from the given exclusive range by \n",
    "    specifying the increment. For example, random. randrange(0, 10, 2) will return any random number between 0 and 20\n",
    "    (like 0, 2, 4, 6, 8)\"\"\""
   ]
  },
  {
   "cell_type": "code",
   "execution_count": 9,
   "id": "21a34e5a",
   "metadata": {},
   "outputs": [
    {
     "data": {
      "text/plain": [
       "' To generate random number in Python, randint() function is used. This function is defined in random module.'"
      ]
     },
     "execution_count": 9,
     "metadata": {},
     "output_type": "execute_result"
    }
   ],
   "source": [
    "# Q57 How can you get a random number in python? \n",
    "\n",
    "\"\"\" To generate random number in Python, randint() function is used. This function is defined in random module.\"\"\""
   ]
  },
  {
   "cell_type": "code",
   "execution_count": 10,
   "id": "033bb038",
   "metadata": {},
   "outputs": [
    {
     "data": {
      "text/plain": [
       "' he random number generator needs a number to start with (a seed value),\\nto be able to generate a random number. By default the random number generator uses the current system time.\\nUse the seed() method to customize the start number of the random number generato'"
      ]
     },
     "execution_count": 10,
     "metadata": {},
     "output_type": "execute_result"
    }
   ],
   "source": [
    "# Q58 How will you set the starting value in generating random numbers?\n",
    "\n",
    "\"\"\" he random number generator needs a number to start with (a seed value),\n",
    "to be able to generate a random number. By default the random number generator uses the current system time.\n",
    "Use the seed() method to customize the start number of the random number generato\"\"\""
   ]
  },
  {
   "cell_type": "code",
   "execution_count": 11,
   "id": "6c461c43",
   "metadata": {},
   "outputs": [
    {
     "data": {
      "text/plain": [
       "' The shuffle() method randomizes the items of a list in place.'"
      ]
     },
     "execution_count": 11,
     "metadata": {},
     "output_type": "execute_result"
    }
   ],
   "source": [
    "# Q59 How will you randomizes the items of a list in place?\n",
    "\n",
    "\"\"\" The shuffle() method randomizes the items of a list in place.\"\"\""
   ]
  },
  {
   "cell_type": "code",
   "execution_count": 3,
   "id": "fc33ede7",
   "metadata": {},
   "outputs": [
    {
     "name": "stdout",
     "output_type": "stream",
     "text": [
      "new content\n"
     ]
    }
   ],
   "source": [
    "# Q60 Write a Python program to read a random line from a file\n",
    "\n",
    "import random\n",
    "file = open(\"sample.txt\",'w')\n",
    "file.write(\"\"\"new content\n",
    "is there in tis file \n",
    "it is intersting \"\"\")\n",
    "file.close()\n",
    "\n",
    "lines = open('sample.txt').read().splitlines()\n",
    "print(random_line('sample.txt'))"
   ]
  },
  {
   "cell_type": "code",
   "execution_count": 9,
   "id": "ce1b8a5e",
   "metadata": {},
   "outputs": [
    {
     "data": {
      "text/plain": [
       "0.17453292519944444"
      ]
     },
     "execution_count": 9,
     "metadata": {},
     "output_type": "execute_result"
    }
   ],
   "source": [
    "# Q sixty one - Write a Python program to convert degree to radian\n",
    "\n",
    "def convert(deg):\n",
    "    radian = deg*3.14159265359/180\n",
    "    return radian\n",
    "convert(10)\n"
   ]
  },
  {
   "cell_type": "code",
   "execution_count": 12,
   "id": "40014a28",
   "metadata": {},
   "outputs": [
    {
     "data": {
      "text/plain": [
       "8.0"
      ]
     },
     "execution_count": 12,
     "metadata": {},
     "output_type": "execute_result"
    }
   ],
   "source": [
    "# Q sixty two - Write a Python program to calculate the area of a trapezoid\n",
    "\n",
    "def tapezoid(a,b,h):\n",
    "    area=a+b/2*h\n",
    "    return area\n",
    "tapezoid(2,3,4)\n"
   ]
  },
  {
   "cell_type": "code",
   "execution_count": 14,
   "id": "93e43a93",
   "metadata": {},
   "outputs": [
    {
     "data": {
      "text/plain": [
       "16"
      ]
     },
     "execution_count": 14,
     "metadata": {},
     "output_type": "execute_result"
    }
   ],
   "source": [
    "# Q sixty three - Write a Python program to calculate the area of a parallelogram\n",
    "\n",
    "def parallelogram(a,h):\n",
    "    area=a*h\n",
    "    return area\n",
    "parallelogram(4,4)"
   ]
  },
  {
   "cell_type": "code",
   "execution_count": 6,
   "id": "08af3317",
   "metadata": {},
   "outputs": [
    {
     "data": {
      "text/plain": [
       "(201.06192982976, 201.06192982976)"
      ]
     },
     "execution_count": 6,
     "metadata": {},
     "output_type": "execute_result"
    }
   ],
   "source": [
    "# sixty four - Write a Python program to calculate surface volume and area of a cylinder\n",
    "\n",
    "def cylinder(r,h):\n",
    "    surface_volume = 3.14159265359*(r*r)*h\n",
    "    area = (2*3.14159265359*r*h)+(2*3.14159265359*(r*r))\n",
    "    return surface_volume , area\n",
    "cylinder(4,4)"
   ]
  },
  {
   "cell_type": "code",
   "execution_count": null,
   "id": "22b85a8c",
   "metadata": {},
   "outputs": [],
   "source": [
    "# "
   ]
  }
 ],
 "metadata": {
  "kernelspec": {
   "display_name": "Python 3 (ipykernel)",
   "language": "python",
   "name": "python3"
  },
  "language_info": {
   "codemirror_mode": {
    "name": "ipython",
    "version": 3
   },
   "file_extension": ".py",
   "mimetype": "text/x-python",
   "name": "python",
   "nbconvert_exporter": "python",
   "pygments_lexer": "ipython3",
   "version": "3.9.12"
  }
 },
 "nbformat": 4,
 "nbformat_minor": 5
}
